{
  "nbformat": 4,
  "nbformat_minor": 0,
  "metadata": {
    "colab": {
      "provenance": [],
      "toc_visible": true,
      "include_colab_link": true
    },
    "kernelspec": {
      "name": "python3",
      "display_name": "Python 3"
    },
    "language_info": {
      "name": "python"
    }
  },
  "cells": [
    {
      "cell_type": "markdown",
      "metadata": {
        "id": "view-in-github",
        "colab_type": "text"
      },
      "source": [
        "<a href=\"https://colab.research.google.com/github/mnrazamohamed/NLP-on-Amazon-product-reviews/blob/main/DL_Natural_Language_Processing.ipynb\" target=\"_parent\"><img src=\"https://colab.research.google.com/assets/colab-badge.svg\" alt=\"Open In Colab\"/></a>"
      ]
    },
    {
      "cell_type": "markdown",
      "source": [
        "# Natural Language Processing\n",
        "\n",
        "Name: Raza Mohamed\n",
        "\n",
        "Student ID: 24148501\n",
        "\n",
        "\n",
        "This project focuses on building a sentiment classification model using deep learning and natural language processing techniques on Amazon product reviews. The objective is to classify reviews as either positive or negative, leveraging both textual and numerical information (helpfulness ratio), and to implement a robust multi-input model architecture that enhances prediction accuracy.\n",
        "\n",
        "1) **Dataset and Preprocessing**  \n",
        "   The Amazon Reviews dataset is loaded and cleaned by removing invalid helpfulness entries and dropping duplicates and null values. A helpfulness ratio feature is engineered to quantify the usefulness of each review. Reviews are labeled as positive (score ≥ 4) or negative (score < 4), creating a binary classification task.\n",
        "\n",
        "2) **Text Cleaning and Tokenization**  \n",
        "   The review text and summary undergo a custom NLP preprocessing pipeline involving:\n",
        "   - HTML removal and lowercasing\n",
        "   - Contraction expansion and punctuation removal\n",
        "   - Stopword filtering (with negation words preserved)\n",
        "   - POS tagging and lemmatization\n",
        "   - Custom negation handling using _NEG suffixes\n",
        "\n",
        "   The cleaned text is tokenized and padded to fixed lengths for input into the model. Vocabulary size and optimal sequence lengths are determined based on token coverage.\n",
        "\n",
        "3) **Multi-Input Model Design**  \n",
        "   A custom Keras model is built with three input branches:\n",
        "   - Review text (LSTM over embedded sequence)\n",
        "   - Summary text (LSTM over embedded sequence)\n",
        "   - Helpfulness ratio (dense input with L2 regularization)\n",
        "\n",
        "   These branches are concatenated and passed through fully connected layers with LeakyReLU activation and dropout. The final output layer uses a sigmoid activation for binary classification.\n",
        "\n",
        "4) **Augmentation and Regularization**  \n",
        "   During training, text and summary inputs are randomly masked to simulate input noise. Gaussian noise is also applied to the helpfulness ratio. Dropout layers and L2 regularization are used to reduce overfitting.\n",
        "\n",
        "5) **Training and Evaluation**  \n",
        "   The model is trained using the tf.data API with early stopping. It is evaluated on accuracy, precision, recall, and F1 score. Visualizations of training and validation performance metrics are generated, and the confusion matrix is used to assess model predictions.\n",
        "\n",
        "6) **Saving and Export**  \n",
        "   The model scores are saved in a CSV file, and the trained model is exported in .h5 format for future use.\n",
        "\n",
        "This project demonstrates a complete NLP pipeline integrating preprocessing, tokenization, augmentation, and a custom multi-branch architecture for sentiment classification using both text and structured numerical inputs.\n"
      ],
      "metadata": {
        "id": "Fr2EPiQvOdfD"
      }
    },
    {
      "cell_type": "markdown",
      "source": [
        "## Mount Google Drive  \n",
        "The google.colab library is used to mount Google Drive to the Colab environment. This allows access to files stored in Google Drive by mounting it at /content/drive. After running the code, a prompt will appear to authorize access to Google Drive.\n"
      ],
      "metadata": {
        "id": "VYzAdCZZOvi7"
      }
    },
    {
      "cell_type": "code",
      "execution_count": null,
      "metadata": {
        "colab": {
          "base_uri": "https://localhost:8080/"
        },
        "id": "QovEqoX3Eo9M",
        "outputId": "3eade8f7-6f89-493f-be47-a23193f23c91"
      },
      "outputs": [
        {
          "output_type": "stream",
          "name": "stdout",
          "text": [
            "Mounted at /content/drive\n"
          ]
        }
      ],
      "source": [
        "# Mount Google Drive to access stored files\n",
        "from google.colab import drive\n",
        "drive.mount('/content/drive')\n"
      ]
    },
    {
      "cell_type": "markdown",
      "source": [
        "## Define the path to the reviews dataset  \n",
        "The path to the Amazon Reviews dataset is specified and stored in the variable reviews_path. This path points to the CSV file stored in Google Drive, which will be used to load the dataset into the notebook.\n"
      ],
      "metadata": {
        "id": "DLesMoD_O-3Q"
      }
    },
    {
      "cell_type": "code",
      "source": [
        "reviews_path  = '/content/drive/MyDrive/BCU - MSc in AI/DL ASMT3/AmazonReviews.csv'\n"
      ],
      "metadata": {
        "id": "CLT3flPxKr8m"
      },
      "execution_count": null,
      "outputs": []
    },
    {
      "cell_type": "markdown",
      "source": [
        "## Load the Amazon Reviews Dataset  \n",
        "The pandas library is used to read the Amazon Reviews dataset from the specified CSV file (reviews_path) and store it in a DataFrame (reviews_df). This allows further analysis and manipulation of the dataset.\n"
      ],
      "metadata": {
        "id": "pT_rl2DDPIqq"
      }
    },
    {
      "cell_type": "code",
      "source": [
        "import pandas as pd\n",
        "\n",
        "reviews_df = pd.read_csv(reviews_path)"
      ],
      "metadata": {
        "id": "11ZdbjBAK0tJ"
      },
      "execution_count": null,
      "outputs": []
    },
    {
      "cell_type": "markdown",
      "source": [
        "## Display the first few rows of the dataset  \n",
        "The head() function is called on the reviews_df DataFrame to display the first few rows of the dataset. This provides an overview of the data, including the columns and the first few records.\n"
      ],
      "metadata": {
        "id": "8WmMMol9PQMQ"
      }
    },
    {
      "cell_type": "code",
      "source": [
        "reviews_df.head()"
      ],
      "metadata": {
        "colab": {
          "base_uri": "https://localhost:8080/",
          "height": 293
        },
        "id": "0FegHqEeLvtJ",
        "outputId": "d746a5cd-84e7-4548-d464-ce6db9fcd039"
      },
      "execution_count": null,
      "outputs": [
        {
          "output_type": "execute_result",
          "data": {
            "text/plain": [
              "   Id   ProductId          UserId                      ProfileName  \\\n",
              "0   1  B001E4KFG0  A3SGXH7AUHU8GW                       delmartian   \n",
              "1   2  B00813GRG4  A1D87F6ZCVE5NK                           dll pa   \n",
              "2   3  B000LQOCH0   ABXLMWJIXXAIN  Natalia Corres \"Natalia Corres\"   \n",
              "3   4  B000UA0QIQ  A395BORC6FGVXV                             Karl   \n",
              "4   5  B006K2ZZ7K  A1UQRSCLF8GW1T    Michael D. Bigham \"M. Wassir\"   \n",
              "\n",
              "   HelpfulnessNumerator  HelpfulnessDenominator  Score        Time  \\\n",
              "0                     1                       1      5  1303862400   \n",
              "1                     0                       0      1  1346976000   \n",
              "2                     1                       1      4  1219017600   \n",
              "3                     3                       3      2  1307923200   \n",
              "4                     0                       0      5  1350777600   \n",
              "\n",
              "                 Summary                                               Text  \n",
              "0  Good Quality Dog Food  I have bought several of the Vitality canned d...  \n",
              "1      Not as Advertised  Product arrived labeled as Jumbo Salted Peanut...  \n",
              "2  \"Delight\" says it all  This is a confection that has been around a fe...  \n",
              "3         Cough Medicine  If you are looking for the secret ingredient i...  \n",
              "4            Great taffy  Great taffy at a great price.  There was a wid...  "
            ],
            "text/html": [
              "\n",
              "  <div id=\"df-ba36830a-46de-4606-89d6-1aa00b8e8ff4\" class=\"colab-df-container\">\n",
              "    <div>\n",
              "<style scoped>\n",
              "    .dataframe tbody tr th:only-of-type {\n",
              "        vertical-align: middle;\n",
              "    }\n",
              "\n",
              "    .dataframe tbody tr th {\n",
              "        vertical-align: top;\n",
              "    }\n",
              "\n",
              "    .dataframe thead th {\n",
              "        text-align: right;\n",
              "    }\n",
              "</style>\n",
              "<table border=\"1\" class=\"dataframe\">\n",
              "  <thead>\n",
              "    <tr style=\"text-align: right;\">\n",
              "      <th></th>\n",
              "      <th>Id</th>\n",
              "      <th>ProductId</th>\n",
              "      <th>UserId</th>\n",
              "      <th>ProfileName</th>\n",
              "      <th>HelpfulnessNumerator</th>\n",
              "      <th>HelpfulnessDenominator</th>\n",
              "      <th>Score</th>\n",
              "      <th>Time</th>\n",
              "      <th>Summary</th>\n",
              "      <th>Text</th>\n",
              "    </tr>\n",
              "  </thead>\n",
              "  <tbody>\n",
              "    <tr>\n",
              "      <th>0</th>\n",
              "      <td>1</td>\n",
              "      <td>B001E4KFG0</td>\n",
              "      <td>A3SGXH7AUHU8GW</td>\n",
              "      <td>delmartian</td>\n",
              "      <td>1</td>\n",
              "      <td>1</td>\n",
              "      <td>5</td>\n",
              "      <td>1303862400</td>\n",
              "      <td>Good Quality Dog Food</td>\n",
              "      <td>I have bought several of the Vitality canned d...</td>\n",
              "    </tr>\n",
              "    <tr>\n",
              "      <th>1</th>\n",
              "      <td>2</td>\n",
              "      <td>B00813GRG4</td>\n",
              "      <td>A1D87F6ZCVE5NK</td>\n",
              "      <td>dll pa</td>\n",
              "      <td>0</td>\n",
              "      <td>0</td>\n",
              "      <td>1</td>\n",
              "      <td>1346976000</td>\n",
              "      <td>Not as Advertised</td>\n",
              "      <td>Product arrived labeled as Jumbo Salted Peanut...</td>\n",
              "    </tr>\n",
              "    <tr>\n",
              "      <th>2</th>\n",
              "      <td>3</td>\n",
              "      <td>B000LQOCH0</td>\n",
              "      <td>ABXLMWJIXXAIN</td>\n",
              "      <td>Natalia Corres \"Natalia Corres\"</td>\n",
              "      <td>1</td>\n",
              "      <td>1</td>\n",
              "      <td>4</td>\n",
              "      <td>1219017600</td>\n",
              "      <td>\"Delight\" says it all</td>\n",
              "      <td>This is a confection that has been around a fe...</td>\n",
              "    </tr>\n",
              "    <tr>\n",
              "      <th>3</th>\n",
              "      <td>4</td>\n",
              "      <td>B000UA0QIQ</td>\n",
              "      <td>A395BORC6FGVXV</td>\n",
              "      <td>Karl</td>\n",
              "      <td>3</td>\n",
              "      <td>3</td>\n",
              "      <td>2</td>\n",
              "      <td>1307923200</td>\n",
              "      <td>Cough Medicine</td>\n",
              "      <td>If you are looking for the secret ingredient i...</td>\n",
              "    </tr>\n",
              "    <tr>\n",
              "      <th>4</th>\n",
              "      <td>5</td>\n",
              "      <td>B006K2ZZ7K</td>\n",
              "      <td>A1UQRSCLF8GW1T</td>\n",
              "      <td>Michael D. Bigham \"M. Wassir\"</td>\n",
              "      <td>0</td>\n",
              "      <td>0</td>\n",
              "      <td>5</td>\n",
              "      <td>1350777600</td>\n",
              "      <td>Great taffy</td>\n",
              "      <td>Great taffy at a great price.  There was a wid...</td>\n",
              "    </tr>\n",
              "  </tbody>\n",
              "</table>\n",
              "</div>\n",
              "    <div class=\"colab-df-buttons\">\n",
              "\n",
              "  <div class=\"colab-df-container\">\n",
              "    <button class=\"colab-df-convert\" onclick=\"convertToInteractive('df-ba36830a-46de-4606-89d6-1aa00b8e8ff4')\"\n",
              "            title=\"Convert this dataframe to an interactive table.\"\n",
              "            style=\"display:none;\">\n",
              "\n",
              "  <svg xmlns=\"http://www.w3.org/2000/svg\" height=\"24px\" viewBox=\"0 -960 960 960\">\n",
              "    <path d=\"M120-120v-720h720v720H120Zm60-500h600v-160H180v160Zm220 220h160v-160H400v160Zm0 220h160v-160H400v160ZM180-400h160v-160H180v160Zm440 0h160v-160H620v160ZM180-180h160v-160H180v160Zm440 0h160v-160H620v160Z\"/>\n",
              "  </svg>\n",
              "    </button>\n",
              "\n",
              "  <style>\n",
              "    .colab-df-container {\n",
              "      display:flex;\n",
              "      gap: 12px;\n",
              "    }\n",
              "\n",
              "    .colab-df-convert {\n",
              "      background-color: #E8F0FE;\n",
              "      border: none;\n",
              "      border-radius: 50%;\n",
              "      cursor: pointer;\n",
              "      display: none;\n",
              "      fill: #1967D2;\n",
              "      height: 32px;\n",
              "      padding: 0 0 0 0;\n",
              "      width: 32px;\n",
              "    }\n",
              "\n",
              "    .colab-df-convert:hover {\n",
              "      background-color: #E2EBFA;\n",
              "      box-shadow: 0px 1px 2px rgba(60, 64, 67, 0.3), 0px 1px 3px 1px rgba(60, 64, 67, 0.15);\n",
              "      fill: #174EA6;\n",
              "    }\n",
              "\n",
              "    .colab-df-buttons div {\n",
              "      margin-bottom: 4px;\n",
              "    }\n",
              "\n",
              "    [theme=dark] .colab-df-convert {\n",
              "      background-color: #3B4455;\n",
              "      fill: #D2E3FC;\n",
              "    }\n",
              "\n",
              "    [theme=dark] .colab-df-convert:hover {\n",
              "      background-color: #434B5C;\n",
              "      box-shadow: 0px 1px 3px 1px rgba(0, 0, 0, 0.15);\n",
              "      filter: drop-shadow(0px 1px 2px rgba(0, 0, 0, 0.3));\n",
              "      fill: #FFFFFF;\n",
              "    }\n",
              "  </style>\n",
              "\n",
              "    <script>\n",
              "      const buttonEl =\n",
              "        document.querySelector('#df-ba36830a-46de-4606-89d6-1aa00b8e8ff4 button.colab-df-convert');\n",
              "      buttonEl.style.display =\n",
              "        google.colab.kernel.accessAllowed ? 'block' : 'none';\n",
              "\n",
              "      async function convertToInteractive(key) {\n",
              "        const element = document.querySelector('#df-ba36830a-46de-4606-89d6-1aa00b8e8ff4');\n",
              "        const dataTable =\n",
              "          await google.colab.kernel.invokeFunction('convertToInteractive',\n",
              "                                                    [key], {});\n",
              "        if (!dataTable) return;\n",
              "\n",
              "        const docLinkHtml = 'Like what you see? Visit the ' +\n",
              "          '<a target=\"_blank\" href=https://colab.research.google.com/notebooks/data_table.ipynb>data table notebook</a>'\n",
              "          + ' to learn more about interactive tables.';\n",
              "        element.innerHTML = '';\n",
              "        dataTable['output_type'] = 'display_data';\n",
              "        await google.colab.output.renderOutput(dataTable, element);\n",
              "        const docLink = document.createElement('div');\n",
              "        docLink.innerHTML = docLinkHtml;\n",
              "        element.appendChild(docLink);\n",
              "      }\n",
              "    </script>\n",
              "  </div>\n",
              "\n",
              "\n",
              "<div id=\"df-15fdc61a-d795-4065-bb76-f1914c98c37b\">\n",
              "  <button class=\"colab-df-quickchart\" onclick=\"quickchart('df-15fdc61a-d795-4065-bb76-f1914c98c37b')\"\n",
              "            title=\"Suggest charts\"\n",
              "            style=\"display:none;\">\n",
              "\n",
              "<svg xmlns=\"http://www.w3.org/2000/svg\" height=\"24px\"viewBox=\"0 0 24 24\"\n",
              "     width=\"24px\">\n",
              "    <g>\n",
              "        <path d=\"M19 3H5c-1.1 0-2 .9-2 2v14c0 1.1.9 2 2 2h14c1.1 0 2-.9 2-2V5c0-1.1-.9-2-2-2zM9 17H7v-7h2v7zm4 0h-2V7h2v10zm4 0h-2v-4h2v4z\"/>\n",
              "    </g>\n",
              "</svg>\n",
              "  </button>\n",
              "\n",
              "<style>\n",
              "  .colab-df-quickchart {\n",
              "      --bg-color: #E8F0FE;\n",
              "      --fill-color: #1967D2;\n",
              "      --hover-bg-color: #E2EBFA;\n",
              "      --hover-fill-color: #174EA6;\n",
              "      --disabled-fill-color: #AAA;\n",
              "      --disabled-bg-color: #DDD;\n",
              "  }\n",
              "\n",
              "  [theme=dark] .colab-df-quickchart {\n",
              "      --bg-color: #3B4455;\n",
              "      --fill-color: #D2E3FC;\n",
              "      --hover-bg-color: #434B5C;\n",
              "      --hover-fill-color: #FFFFFF;\n",
              "      --disabled-bg-color: #3B4455;\n",
              "      --disabled-fill-color: #666;\n",
              "  }\n",
              "\n",
              "  .colab-df-quickchart {\n",
              "    background-color: var(--bg-color);\n",
              "    border: none;\n",
              "    border-radius: 50%;\n",
              "    cursor: pointer;\n",
              "    display: none;\n",
              "    fill: var(--fill-color);\n",
              "    height: 32px;\n",
              "    padding: 0;\n",
              "    width: 32px;\n",
              "  }\n",
              "\n",
              "  .colab-df-quickchart:hover {\n",
              "    background-color: var(--hover-bg-color);\n",
              "    box-shadow: 0 1px 2px rgba(60, 64, 67, 0.3), 0 1px 3px 1px rgba(60, 64, 67, 0.15);\n",
              "    fill: var(--button-hover-fill-color);\n",
              "  }\n",
              "\n",
              "  .colab-df-quickchart-complete:disabled,\n",
              "  .colab-df-quickchart-complete:disabled:hover {\n",
              "    background-color: var(--disabled-bg-color);\n",
              "    fill: var(--disabled-fill-color);\n",
              "    box-shadow: none;\n",
              "  }\n",
              "\n",
              "  .colab-df-spinner {\n",
              "    border: 2px solid var(--fill-color);\n",
              "    border-color: transparent;\n",
              "    border-bottom-color: var(--fill-color);\n",
              "    animation:\n",
              "      spin 1s steps(1) infinite;\n",
              "  }\n",
              "\n",
              "  @keyframes spin {\n",
              "    0% {\n",
              "      border-color: transparent;\n",
              "      border-bottom-color: var(--fill-color);\n",
              "      border-left-color: var(--fill-color);\n",
              "    }\n",
              "    20% {\n",
              "      border-color: transparent;\n",
              "      border-left-color: var(--fill-color);\n",
              "      border-top-color: var(--fill-color);\n",
              "    }\n",
              "    30% {\n",
              "      border-color: transparent;\n",
              "      border-left-color: var(--fill-color);\n",
              "      border-top-color: var(--fill-color);\n",
              "      border-right-color: var(--fill-color);\n",
              "    }\n",
              "    40% {\n",
              "      border-color: transparent;\n",
              "      border-right-color: var(--fill-color);\n",
              "      border-top-color: var(--fill-color);\n",
              "    }\n",
              "    60% {\n",
              "      border-color: transparent;\n",
              "      border-right-color: var(--fill-color);\n",
              "    }\n",
              "    80% {\n",
              "      border-color: transparent;\n",
              "      border-right-color: var(--fill-color);\n",
              "      border-bottom-color: var(--fill-color);\n",
              "    }\n",
              "    90% {\n",
              "      border-color: transparent;\n",
              "      border-bottom-color: var(--fill-color);\n",
              "    }\n",
              "  }\n",
              "</style>\n",
              "\n",
              "  <script>\n",
              "    async function quickchart(key) {\n",
              "      const quickchartButtonEl =\n",
              "        document.querySelector('#' + key + ' button');\n",
              "      quickchartButtonEl.disabled = true;  // To prevent multiple clicks.\n",
              "      quickchartButtonEl.classList.add('colab-df-spinner');\n",
              "      try {\n",
              "        const charts = await google.colab.kernel.invokeFunction(\n",
              "            'suggestCharts', [key], {});\n",
              "      } catch (error) {\n",
              "        console.error('Error during call to suggestCharts:', error);\n",
              "      }\n",
              "      quickchartButtonEl.classList.remove('colab-df-spinner');\n",
              "      quickchartButtonEl.classList.add('colab-df-quickchart-complete');\n",
              "    }\n",
              "    (() => {\n",
              "      let quickchartButtonEl =\n",
              "        document.querySelector('#df-15fdc61a-d795-4065-bb76-f1914c98c37b button');\n",
              "      quickchartButtonEl.style.display =\n",
              "        google.colab.kernel.accessAllowed ? 'block' : 'none';\n",
              "    })();\n",
              "  </script>\n",
              "</div>\n",
              "\n",
              "    </div>\n",
              "  </div>\n"
            ],
            "application/vnd.google.colaboratory.intrinsic+json": {
              "type": "dataframe",
              "variable_name": "reviews_df"
            }
          },
          "metadata": {},
          "execution_count": 4
        }
      ]
    },
    {
      "cell_type": "markdown",
      "source": [
        "## Print the column names of the dataset  \n",
        "The columns.to_list() function is used to print the list of column names in the reviews_df DataFrame. This allows you to see all the available features in the dataset.\n"
      ],
      "metadata": {
        "id": "tt1bZPLtZala"
      }
    },
    {
      "cell_type": "code",
      "source": [
        "print(reviews_df.columns.to_list())"
      ],
      "metadata": {
        "colab": {
          "base_uri": "https://localhost:8080/"
        },
        "id": "UYPetqgOZujD",
        "outputId": "152092f1-fd83-4782-c177-f2dc9d1e79cc"
      },
      "execution_count": null,
      "outputs": [
        {
          "output_type": "stream",
          "name": "stdout",
          "text": [
            "['Id', 'ProductId', 'UserId', 'ProfileName', 'HelpfulnessNumerator', 'HelpfulnessDenominator', 'Score', 'Time', 'Summary', 'Text']\n"
          ]
        }
      ]
    },
    {
      "cell_type": "markdown",
      "source": [
        "## Check the shape of the dataset  \n",
        "The shape attribute of the reviews_df DataFrame is used to check the dimensions of the dataset, i.e., the number of rows and columns. This provides an overview of the dataset's size.\n"
      ],
      "metadata": {
        "id": "P3sUmq2mZjaJ"
      }
    },
    {
      "cell_type": "code",
      "source": [
        "reviews_df.shape"
      ],
      "metadata": {
        "colab": {
          "base_uri": "https://localhost:8080/"
        },
        "id": "fWbgVZbsZ6x6",
        "outputId": "3a012114-bbf7-4655-bcea-6b101acec0ec"
      },
      "execution_count": null,
      "outputs": [
        {
          "output_type": "execute_result",
          "data": {
            "text/plain": [
              "(568454, 10)"
            ]
          },
          "metadata": {},
          "execution_count": 6
        }
      ]
    },
    {
      "cell_type": "markdown",
      "source": [
        "## Display score distribution  \n",
        "The value_counts() function is used on the 'Score' column of the reviews_df DataFrame to display the distribution of scores in the dataset. This shows how many reviews correspond to each score, helping to understand the distribution of ratings.\n"
      ],
      "metadata": {
        "id": "mSib-vTbZwuh"
      }
    },
    {
      "cell_type": "code",
      "source": [
        "print(\"Score Distribution:\")\n",
        "reviews_df['Score'].value_counts()"
      ],
      "metadata": {
        "colab": {
          "base_uri": "https://localhost:8080/",
          "height": 290
        },
        "id": "LFyMlauIaWWG",
        "outputId": "f2751cd0-d800-4f94-9518-57a8566deaa8"
      },
      "execution_count": null,
      "outputs": [
        {
          "output_type": "stream",
          "name": "stdout",
          "text": [
            "Score Distribution:\n"
          ]
        },
        {
          "output_type": "execute_result",
          "data": {
            "text/plain": [
              "Score\n",
              "5    363122\n",
              "4     80655\n",
              "1     52268\n",
              "3     42640\n",
              "2     29769\n",
              "Name: count, dtype: int64"
            ],
            "text/html": [
              "<div>\n",
              "<style scoped>\n",
              "    .dataframe tbody tr th:only-of-type {\n",
              "        vertical-align: middle;\n",
              "    }\n",
              "\n",
              "    .dataframe tbody tr th {\n",
              "        vertical-align: top;\n",
              "    }\n",
              "\n",
              "    .dataframe thead th {\n",
              "        text-align: right;\n",
              "    }\n",
              "</style>\n",
              "<table border=\"1\" class=\"dataframe\">\n",
              "  <thead>\n",
              "    <tr style=\"text-align: right;\">\n",
              "      <th></th>\n",
              "      <th>count</th>\n",
              "    </tr>\n",
              "    <tr>\n",
              "      <th>Score</th>\n",
              "      <th></th>\n",
              "    </tr>\n",
              "  </thead>\n",
              "  <tbody>\n",
              "    <tr>\n",
              "      <th>5</th>\n",
              "      <td>363122</td>\n",
              "    </tr>\n",
              "    <tr>\n",
              "      <th>4</th>\n",
              "      <td>80655</td>\n",
              "    </tr>\n",
              "    <tr>\n",
              "      <th>1</th>\n",
              "      <td>52268</td>\n",
              "    </tr>\n",
              "    <tr>\n",
              "      <th>3</th>\n",
              "      <td>42640</td>\n",
              "    </tr>\n",
              "    <tr>\n",
              "      <th>2</th>\n",
              "      <td>29769</td>\n",
              "    </tr>\n",
              "  </tbody>\n",
              "</table>\n",
              "</div><br><label><b>dtype:</b> int64</label>"
            ]
          },
          "metadata": {},
          "execution_count": 7
        }
      ]
    },
    {
      "cell_type": "markdown",
      "source": [
        "## Display dataset information  \n",
        "The info() function is called on the reviews_df DataFrame to display a summary of the dataset. This includes information on the number of non-null entries, data types, and memory usage for each column, helping to identify missing values and the overall structure of the dataset.\n"
      ],
      "metadata": {
        "id": "7X5YelufZ5Q5"
      }
    },
    {
      "cell_type": "code",
      "source": [
        "reviews_df.info()"
      ],
      "metadata": {
        "colab": {
          "base_uri": "https://localhost:8080/"
        },
        "id": "_18xsF3cbFes",
        "outputId": "ffb30a69-939d-4458-b0a2-0822c5cda77e"
      },
      "execution_count": null,
      "outputs": [
        {
          "output_type": "stream",
          "name": "stdout",
          "text": [
            "<class 'pandas.core.frame.DataFrame'>\n",
            "RangeIndex: 568454 entries, 0 to 568453\n",
            "Data columns (total 10 columns):\n",
            " #   Column                  Non-Null Count   Dtype \n",
            "---  ------                  --------------   ----- \n",
            " 0   Id                      568454 non-null  int64 \n",
            " 1   ProductId               568454 non-null  object\n",
            " 2   UserId                  568454 non-null  object\n",
            " 3   ProfileName             568428 non-null  object\n",
            " 4   HelpfulnessNumerator    568454 non-null  int64 \n",
            " 5   HelpfulnessDenominator  568454 non-null  int64 \n",
            " 6   Score                   568454 non-null  int64 \n",
            " 7   Time                    568454 non-null  int64 \n",
            " 8   Summary                 568427 non-null  object\n",
            " 9   Text                    568454 non-null  object\n",
            "dtypes: int64(5), object(5)\n",
            "memory usage: 43.4+ MB\n"
          ]
        }
      ]
    },
    {
      "cell_type": "markdown",
      "source": [
        "## Create and clean helpfulness ratio column  \n",
        "A new column, helpfulness_ratio, is created by dividing the HelpfulnessNumerator by the HelpfulnessDenominator, ensuring that division by zero is handled by assigning a ratio of 0 in such cases.  \n",
        "\n",
        "Before cleaning the data, rows where the HelpfulnessNumerator is greater than the HelpfulnessDenominator are checked and displayed for further review. These rows are considered invalid, so they are removed from the DataFrame.  \n",
        "\n",
        "Finally, the shape of the dataset is printed after removing invalid rows, and statistics on the helpfulness_ratio are displayed using the describe() function."
      ],
      "metadata": {
        "id": "B25y3J-BaObC"
      }
    },
    {
      "cell_type": "code",
      "source": [
        "# Create a helpfulness ratio column, handling division by zero\n",
        "reviews_df['helpfulness_ratio'] = reviews_df.apply(\n",
        "    lambda row: row['HelpfulnessNumerator'] / row['HelpfulnessDenominator']\n",
        "    if row['HelpfulnessDenominator'] != 0 else 0, axis=1\n",
        ")\n",
        "\n",
        "# Check invalid rows before dropping\n",
        "invalid_helpfulness = reviews_df[reviews_df['HelpfulnessNumerator'] > reviews_df['HelpfulnessDenominator']]\n",
        "print(\"Rows where HelpfulnessNumerator > HelpfulnessDenominator (before dropping):\", len(invalid_helpfulness))\n",
        "if len(invalid_helpfulness) > 0:\n",
        "    print(\"Sample invalid entries (before dropping):\")\n",
        "    display(invalid_helpfulness[['HelpfulnessNumerator', 'HelpfulnessDenominator', 'helpfulness_ratio']].head())\n",
        "\n",
        "# Drop rows where HelpfulnessNumerator > HelpfulnessDenominator\n",
        "reviews_df = reviews_df[reviews_df['HelpfulnessNumerator'] <= reviews_df['HelpfulnessDenominator']]\n",
        "print(\"Shape after dropping invalid helpfulness rows:\", reviews_df.shape)\n",
        "\n",
        "# Check helpfulness ratio stats\n",
        "print(\"Helpfulness Ratio Stats:\")\n",
        "print(reviews_df['helpfulness_ratio'].describe())"
      ],
      "metadata": {
        "colab": {
          "base_uri": "https://localhost:8080/",
          "height": 349
        },
        "id": "S1Midjf7f8NN",
        "outputId": "58e2ad13-ff8b-4fac-d7bf-f36f40b4247c"
      },
      "execution_count": null,
      "outputs": [
        {
          "output_type": "stream",
          "name": "stdout",
          "text": [
            "Rows where HelpfulnessNumerator > HelpfulnessDenominator (before dropping): 2\n",
            "Sample invalid entries (before dropping):\n"
          ]
        },
        {
          "output_type": "display_data",
          "data": {
            "text/plain": [
              "       HelpfulnessNumerator  HelpfulnessDenominator  helpfulness_ratio\n",
              "44736                     3                       2                1.5\n",
              "64421                     3                       1                3.0"
            ],
            "text/html": [
              "\n",
              "  <div id=\"df-76fd19a8-99b1-40cf-8429-5cc3f4f2e4de\" class=\"colab-df-container\">\n",
              "    <div>\n",
              "<style scoped>\n",
              "    .dataframe tbody tr th:only-of-type {\n",
              "        vertical-align: middle;\n",
              "    }\n",
              "\n",
              "    .dataframe tbody tr th {\n",
              "        vertical-align: top;\n",
              "    }\n",
              "\n",
              "    .dataframe thead th {\n",
              "        text-align: right;\n",
              "    }\n",
              "</style>\n",
              "<table border=\"1\" class=\"dataframe\">\n",
              "  <thead>\n",
              "    <tr style=\"text-align: right;\">\n",
              "      <th></th>\n",
              "      <th>HelpfulnessNumerator</th>\n",
              "      <th>HelpfulnessDenominator</th>\n",
              "      <th>helpfulness_ratio</th>\n",
              "    </tr>\n",
              "  </thead>\n",
              "  <tbody>\n",
              "    <tr>\n",
              "      <th>44736</th>\n",
              "      <td>3</td>\n",
              "      <td>2</td>\n",
              "      <td>1.5</td>\n",
              "    </tr>\n",
              "    <tr>\n",
              "      <th>64421</th>\n",
              "      <td>3</td>\n",
              "      <td>1</td>\n",
              "      <td>3.0</td>\n",
              "    </tr>\n",
              "  </tbody>\n",
              "</table>\n",
              "</div>\n",
              "    <div class=\"colab-df-buttons\">\n",
              "\n",
              "  <div class=\"colab-df-container\">\n",
              "    <button class=\"colab-df-convert\" onclick=\"convertToInteractive('df-76fd19a8-99b1-40cf-8429-5cc3f4f2e4de')\"\n",
              "            title=\"Convert this dataframe to an interactive table.\"\n",
              "            style=\"display:none;\">\n",
              "\n",
              "  <svg xmlns=\"http://www.w3.org/2000/svg\" height=\"24px\" viewBox=\"0 -960 960 960\">\n",
              "    <path d=\"M120-120v-720h720v720H120Zm60-500h600v-160H180v160Zm220 220h160v-160H400v160Zm0 220h160v-160H400v160ZM180-400h160v-160H180v160Zm440 0h160v-160H620v160ZM180-180h160v-160H180v160Zm440 0h160v-160H620v160Z\"/>\n",
              "  </svg>\n",
              "    </button>\n",
              "\n",
              "  <style>\n",
              "    .colab-df-container {\n",
              "      display:flex;\n",
              "      gap: 12px;\n",
              "    }\n",
              "\n",
              "    .colab-df-convert {\n",
              "      background-color: #E8F0FE;\n",
              "      border: none;\n",
              "      border-radius: 50%;\n",
              "      cursor: pointer;\n",
              "      display: none;\n",
              "      fill: #1967D2;\n",
              "      height: 32px;\n",
              "      padding: 0 0 0 0;\n",
              "      width: 32px;\n",
              "    }\n",
              "\n",
              "    .colab-df-convert:hover {\n",
              "      background-color: #E2EBFA;\n",
              "      box-shadow: 0px 1px 2px rgba(60, 64, 67, 0.3), 0px 1px 3px 1px rgba(60, 64, 67, 0.15);\n",
              "      fill: #174EA6;\n",
              "    }\n",
              "\n",
              "    .colab-df-buttons div {\n",
              "      margin-bottom: 4px;\n",
              "    }\n",
              "\n",
              "    [theme=dark] .colab-df-convert {\n",
              "      background-color: #3B4455;\n",
              "      fill: #D2E3FC;\n",
              "    }\n",
              "\n",
              "    [theme=dark] .colab-df-convert:hover {\n",
              "      background-color: #434B5C;\n",
              "      box-shadow: 0px 1px 3px 1px rgba(0, 0, 0, 0.15);\n",
              "      filter: drop-shadow(0px 1px 2px rgba(0, 0, 0, 0.3));\n",
              "      fill: #FFFFFF;\n",
              "    }\n",
              "  </style>\n",
              "\n",
              "    <script>\n",
              "      const buttonEl =\n",
              "        document.querySelector('#df-76fd19a8-99b1-40cf-8429-5cc3f4f2e4de button.colab-df-convert');\n",
              "      buttonEl.style.display =\n",
              "        google.colab.kernel.accessAllowed ? 'block' : 'none';\n",
              "\n",
              "      async function convertToInteractive(key) {\n",
              "        const element = document.querySelector('#df-76fd19a8-99b1-40cf-8429-5cc3f4f2e4de');\n",
              "        const dataTable =\n",
              "          await google.colab.kernel.invokeFunction('convertToInteractive',\n",
              "                                                    [key], {});\n",
              "        if (!dataTable) return;\n",
              "\n",
              "        const docLinkHtml = 'Like what you see? Visit the ' +\n",
              "          '<a target=\"_blank\" href=https://colab.research.google.com/notebooks/data_table.ipynb>data table notebook</a>'\n",
              "          + ' to learn more about interactive tables.';\n",
              "        element.innerHTML = '';\n",
              "        dataTable['output_type'] = 'display_data';\n",
              "        await google.colab.output.renderOutput(dataTable, element);\n",
              "        const docLink = document.createElement('div');\n",
              "        docLink.innerHTML = docLinkHtml;\n",
              "        element.appendChild(docLink);\n",
              "      }\n",
              "    </script>\n",
              "  </div>\n",
              "\n",
              "\n",
              "<div id=\"df-d4911a68-a121-4660-bea1-14ae48de4af9\">\n",
              "  <button class=\"colab-df-quickchart\" onclick=\"quickchart('df-d4911a68-a121-4660-bea1-14ae48de4af9')\"\n",
              "            title=\"Suggest charts\"\n",
              "            style=\"display:none;\">\n",
              "\n",
              "<svg xmlns=\"http://www.w3.org/2000/svg\" height=\"24px\"viewBox=\"0 0 24 24\"\n",
              "     width=\"24px\">\n",
              "    <g>\n",
              "        <path d=\"M19 3H5c-1.1 0-2 .9-2 2v14c0 1.1.9 2 2 2h14c1.1 0 2-.9 2-2V5c0-1.1-.9-2-2-2zM9 17H7v-7h2v7zm4 0h-2V7h2v10zm4 0h-2v-4h2v4z\"/>\n",
              "    </g>\n",
              "</svg>\n",
              "  </button>\n",
              "\n",
              "<style>\n",
              "  .colab-df-quickchart {\n",
              "      --bg-color: #E8F0FE;\n",
              "      --fill-color: #1967D2;\n",
              "      --hover-bg-color: #E2EBFA;\n",
              "      --hover-fill-color: #174EA6;\n",
              "      --disabled-fill-color: #AAA;\n",
              "      --disabled-bg-color: #DDD;\n",
              "  }\n",
              "\n",
              "  [theme=dark] .colab-df-quickchart {\n",
              "      --bg-color: #3B4455;\n",
              "      --fill-color: #D2E3FC;\n",
              "      --hover-bg-color: #434B5C;\n",
              "      --hover-fill-color: #FFFFFF;\n",
              "      --disabled-bg-color: #3B4455;\n",
              "      --disabled-fill-color: #666;\n",
              "  }\n",
              "\n",
              "  .colab-df-quickchart {\n",
              "    background-color: var(--bg-color);\n",
              "    border: none;\n",
              "    border-radius: 50%;\n",
              "    cursor: pointer;\n",
              "    display: none;\n",
              "    fill: var(--fill-color);\n",
              "    height: 32px;\n",
              "    padding: 0;\n",
              "    width: 32px;\n",
              "  }\n",
              "\n",
              "  .colab-df-quickchart:hover {\n",
              "    background-color: var(--hover-bg-color);\n",
              "    box-shadow: 0 1px 2px rgba(60, 64, 67, 0.3), 0 1px 3px 1px rgba(60, 64, 67, 0.15);\n",
              "    fill: var(--button-hover-fill-color);\n",
              "  }\n",
              "\n",
              "  .colab-df-quickchart-complete:disabled,\n",
              "  .colab-df-quickchart-complete:disabled:hover {\n",
              "    background-color: var(--disabled-bg-color);\n",
              "    fill: var(--disabled-fill-color);\n",
              "    box-shadow: none;\n",
              "  }\n",
              "\n",
              "  .colab-df-spinner {\n",
              "    border: 2px solid var(--fill-color);\n",
              "    border-color: transparent;\n",
              "    border-bottom-color: var(--fill-color);\n",
              "    animation:\n",
              "      spin 1s steps(1) infinite;\n",
              "  }\n",
              "\n",
              "  @keyframes spin {\n",
              "    0% {\n",
              "      border-color: transparent;\n",
              "      border-bottom-color: var(--fill-color);\n",
              "      border-left-color: var(--fill-color);\n",
              "    }\n",
              "    20% {\n",
              "      border-color: transparent;\n",
              "      border-left-color: var(--fill-color);\n",
              "      border-top-color: var(--fill-color);\n",
              "    }\n",
              "    30% {\n",
              "      border-color: transparent;\n",
              "      border-left-color: var(--fill-color);\n",
              "      border-top-color: var(--fill-color);\n",
              "      border-right-color: var(--fill-color);\n",
              "    }\n",
              "    40% {\n",
              "      border-color: transparent;\n",
              "      border-right-color: var(--fill-color);\n",
              "      border-top-color: var(--fill-color);\n",
              "    }\n",
              "    60% {\n",
              "      border-color: transparent;\n",
              "      border-right-color: var(--fill-color);\n",
              "    }\n",
              "    80% {\n",
              "      border-color: transparent;\n",
              "      border-right-color: var(--fill-color);\n",
              "      border-bottom-color: var(--fill-color);\n",
              "    }\n",
              "    90% {\n",
              "      border-color: transparent;\n",
              "      border-bottom-color: var(--fill-color);\n",
              "    }\n",
              "  }\n",
              "</style>\n",
              "\n",
              "  <script>\n",
              "    async function quickchart(key) {\n",
              "      const quickchartButtonEl =\n",
              "        document.querySelector('#' + key + ' button');\n",
              "      quickchartButtonEl.disabled = true;  // To prevent multiple clicks.\n",
              "      quickchartButtonEl.classList.add('colab-df-spinner');\n",
              "      try {\n",
              "        const charts = await google.colab.kernel.invokeFunction(\n",
              "            'suggestCharts', [key], {});\n",
              "      } catch (error) {\n",
              "        console.error('Error during call to suggestCharts:', error);\n",
              "      }\n",
              "      quickchartButtonEl.classList.remove('colab-df-spinner');\n",
              "      quickchartButtonEl.classList.add('colab-df-quickchart-complete');\n",
              "    }\n",
              "    (() => {\n",
              "      let quickchartButtonEl =\n",
              "        document.querySelector('#df-d4911a68-a121-4660-bea1-14ae48de4af9 button');\n",
              "      quickchartButtonEl.style.display =\n",
              "        google.colab.kernel.accessAllowed ? 'block' : 'none';\n",
              "    })();\n",
              "  </script>\n",
              "</div>\n",
              "\n",
              "    </div>\n",
              "  </div>\n"
            ],
            "application/vnd.google.colaboratory.intrinsic+json": {
              "type": "dataframe",
              "summary": "{\n  \"name\": \"print(reviews_df['helpfulness_ratio']\",\n  \"rows\": 2,\n  \"fields\": [\n    {\n      \"column\": \"HelpfulnessNumerator\",\n      \"properties\": {\n        \"dtype\": \"number\",\n        \"std\": 0,\n        \"min\": 3,\n        \"max\": 3,\n        \"num_unique_values\": 1,\n        \"samples\": [\n          3\n        ],\n        \"semantic_type\": \"\",\n        \"description\": \"\"\n      }\n    },\n    {\n      \"column\": \"HelpfulnessDenominator\",\n      \"properties\": {\n        \"dtype\": \"number\",\n        \"std\": 0,\n        \"min\": 1,\n        \"max\": 2,\n        \"num_unique_values\": 2,\n        \"samples\": [\n          1\n        ],\n        \"semantic_type\": \"\",\n        \"description\": \"\"\n      }\n    },\n    {\n      \"column\": \"helpfulness_ratio\",\n      \"properties\": {\n        \"dtype\": \"number\",\n        \"std\": 1.0606601717798212,\n        \"min\": 1.5,\n        \"max\": 3.0,\n        \"num_unique_values\": 2,\n        \"samples\": [\n          3.0\n        ],\n        \"semantic_type\": \"\",\n        \"description\": \"\"\n      }\n    }\n  ]\n}"
            }
          },
          "metadata": {}
        },
        {
          "output_type": "stream",
          "name": "stdout",
          "text": [
            "Shape after dropping invalid helpfulness rows: (568452, 11)\n",
            "Helpfulness Ratio Stats:\n",
            "count    568452.000000\n",
            "mean          0.407855\n",
            "std           0.462054\n",
            "min           0.000000\n",
            "25%           0.000000\n",
            "50%           0.000000\n",
            "75%           1.000000\n",
            "max           1.000000\n",
            "Name: helpfulness_ratio, dtype: float64\n"
          ]
        }
      ]
    },
    {
      "cell_type": "markdown",
      "source": [
        "## Keep only relevant columns  \n",
        "The DataFrame is filtered to retain only the relevant columns: 'Text', 'Score', 'Summary', and 'helpfulness_ratio'.  \n",
        "\n",
        "After selecting these columns, the shape of the new DataFrame is printed, followed by the list of remaining columns. The first five rows are displayed to verify the new structure and content of the DataFrame.\n"
      ],
      "metadata": {
        "id": "7pQ0jyMkaUgy"
      }
    },
    {
      "cell_type": "code",
      "source": [
        "# Keep only relevant columns\n",
        "columns_to_keep = ['Text', 'Score', 'Summary', 'helpfulness_ratio']\n",
        "reviews_df = reviews_df[columns_to_keep]\n",
        "\n",
        "# Verify the new DataFrame\n",
        "print(\"Shape after dropping columns:\", reviews_df.shape)\n",
        "print(\"\\nRemaining columns:\", reviews_df.columns.to_list())\n",
        "print(\"\\nFirst 5 rows:\")\n",
        "display(reviews_df.head())"
      ],
      "metadata": {
        "colab": {
          "base_uri": "https://localhost:8080/",
          "height": 297
        },
        "id": "7g1yK4nIizxS",
        "outputId": "1ba16309-c96c-4324-9dcb-e5f9c496f417"
      },
      "execution_count": null,
      "outputs": [
        {
          "output_type": "stream",
          "name": "stdout",
          "text": [
            "Shape after dropping columns: (568452, 4)\n",
            "\n",
            "Remaining columns: ['Text', 'Score', 'Summary', 'helpfulness_ratio']\n",
            "\n",
            "First 5 rows:\n"
          ]
        },
        {
          "output_type": "display_data",
          "data": {
            "text/plain": [
              "                                                Text  Score  \\\n",
              "0  I have bought several of the Vitality canned d...      5   \n",
              "1  Product arrived labeled as Jumbo Salted Peanut...      1   \n",
              "2  This is a confection that has been around a fe...      4   \n",
              "3  If you are looking for the secret ingredient i...      2   \n",
              "4  Great taffy at a great price.  There was a wid...      5   \n",
              "\n",
              "                 Summary  helpfulness_ratio  \n",
              "0  Good Quality Dog Food                1.0  \n",
              "1      Not as Advertised                0.0  \n",
              "2  \"Delight\" says it all                1.0  \n",
              "3         Cough Medicine                1.0  \n",
              "4            Great taffy                0.0  "
            ],
            "text/html": [
              "\n",
              "  <div id=\"df-17f1da2b-3c4c-4546-8d0f-b470a469ee63\" class=\"colab-df-container\">\n",
              "    <div>\n",
              "<style scoped>\n",
              "    .dataframe tbody tr th:only-of-type {\n",
              "        vertical-align: middle;\n",
              "    }\n",
              "\n",
              "    .dataframe tbody tr th {\n",
              "        vertical-align: top;\n",
              "    }\n",
              "\n",
              "    .dataframe thead th {\n",
              "        text-align: right;\n",
              "    }\n",
              "</style>\n",
              "<table border=\"1\" class=\"dataframe\">\n",
              "  <thead>\n",
              "    <tr style=\"text-align: right;\">\n",
              "      <th></th>\n",
              "      <th>Text</th>\n",
              "      <th>Score</th>\n",
              "      <th>Summary</th>\n",
              "      <th>helpfulness_ratio</th>\n",
              "    </tr>\n",
              "  </thead>\n",
              "  <tbody>\n",
              "    <tr>\n",
              "      <th>0</th>\n",
              "      <td>I have bought several of the Vitality canned d...</td>\n",
              "      <td>5</td>\n",
              "      <td>Good Quality Dog Food</td>\n",
              "      <td>1.0</td>\n",
              "    </tr>\n",
              "    <tr>\n",
              "      <th>1</th>\n",
              "      <td>Product arrived labeled as Jumbo Salted Peanut...</td>\n",
              "      <td>1</td>\n",
              "      <td>Not as Advertised</td>\n",
              "      <td>0.0</td>\n",
              "    </tr>\n",
              "    <tr>\n",
              "      <th>2</th>\n",
              "      <td>This is a confection that has been around a fe...</td>\n",
              "      <td>4</td>\n",
              "      <td>\"Delight\" says it all</td>\n",
              "      <td>1.0</td>\n",
              "    </tr>\n",
              "    <tr>\n",
              "      <th>3</th>\n",
              "      <td>If you are looking for the secret ingredient i...</td>\n",
              "      <td>2</td>\n",
              "      <td>Cough Medicine</td>\n",
              "      <td>1.0</td>\n",
              "    </tr>\n",
              "    <tr>\n",
              "      <th>4</th>\n",
              "      <td>Great taffy at a great price.  There was a wid...</td>\n",
              "      <td>5</td>\n",
              "      <td>Great taffy</td>\n",
              "      <td>0.0</td>\n",
              "    </tr>\n",
              "  </tbody>\n",
              "</table>\n",
              "</div>\n",
              "    <div class=\"colab-df-buttons\">\n",
              "\n",
              "  <div class=\"colab-df-container\">\n",
              "    <button class=\"colab-df-convert\" onclick=\"convertToInteractive('df-17f1da2b-3c4c-4546-8d0f-b470a469ee63')\"\n",
              "            title=\"Convert this dataframe to an interactive table.\"\n",
              "            style=\"display:none;\">\n",
              "\n",
              "  <svg xmlns=\"http://www.w3.org/2000/svg\" height=\"24px\" viewBox=\"0 -960 960 960\">\n",
              "    <path d=\"M120-120v-720h720v720H120Zm60-500h600v-160H180v160Zm220 220h160v-160H400v160Zm0 220h160v-160H400v160ZM180-400h160v-160H180v160Zm440 0h160v-160H620v160ZM180-180h160v-160H180v160Zm440 0h160v-160H620v160Z\"/>\n",
              "  </svg>\n",
              "    </button>\n",
              "\n",
              "  <style>\n",
              "    .colab-df-container {\n",
              "      display:flex;\n",
              "      gap: 12px;\n",
              "    }\n",
              "\n",
              "    .colab-df-convert {\n",
              "      background-color: #E8F0FE;\n",
              "      border: none;\n",
              "      border-radius: 50%;\n",
              "      cursor: pointer;\n",
              "      display: none;\n",
              "      fill: #1967D2;\n",
              "      height: 32px;\n",
              "      padding: 0 0 0 0;\n",
              "      width: 32px;\n",
              "    }\n",
              "\n",
              "    .colab-df-convert:hover {\n",
              "      background-color: #E2EBFA;\n",
              "      box-shadow: 0px 1px 2px rgba(60, 64, 67, 0.3), 0px 1px 3px 1px rgba(60, 64, 67, 0.15);\n",
              "      fill: #174EA6;\n",
              "    }\n",
              "\n",
              "    .colab-df-buttons div {\n",
              "      margin-bottom: 4px;\n",
              "    }\n",
              "\n",
              "    [theme=dark] .colab-df-convert {\n",
              "      background-color: #3B4455;\n",
              "      fill: #D2E3FC;\n",
              "    }\n",
              "\n",
              "    [theme=dark] .colab-df-convert:hover {\n",
              "      background-color: #434B5C;\n",
              "      box-shadow: 0px 1px 3px 1px rgba(0, 0, 0, 0.15);\n",
              "      filter: drop-shadow(0px 1px 2px rgba(0, 0, 0, 0.3));\n",
              "      fill: #FFFFFF;\n",
              "    }\n",
              "  </style>\n",
              "\n",
              "    <script>\n",
              "      const buttonEl =\n",
              "        document.querySelector('#df-17f1da2b-3c4c-4546-8d0f-b470a469ee63 button.colab-df-convert');\n",
              "      buttonEl.style.display =\n",
              "        google.colab.kernel.accessAllowed ? 'block' : 'none';\n",
              "\n",
              "      async function convertToInteractive(key) {\n",
              "        const element = document.querySelector('#df-17f1da2b-3c4c-4546-8d0f-b470a469ee63');\n",
              "        const dataTable =\n",
              "          await google.colab.kernel.invokeFunction('convertToInteractive',\n",
              "                                                    [key], {});\n",
              "        if (!dataTable) return;\n",
              "\n",
              "        const docLinkHtml = 'Like what you see? Visit the ' +\n",
              "          '<a target=\"_blank\" href=https://colab.research.google.com/notebooks/data_table.ipynb>data table notebook</a>'\n",
              "          + ' to learn more about interactive tables.';\n",
              "        element.innerHTML = '';\n",
              "        dataTable['output_type'] = 'display_data';\n",
              "        await google.colab.output.renderOutput(dataTable, element);\n",
              "        const docLink = document.createElement('div');\n",
              "        docLink.innerHTML = docLinkHtml;\n",
              "        element.appendChild(docLink);\n",
              "      }\n",
              "    </script>\n",
              "  </div>\n",
              "\n",
              "\n",
              "<div id=\"df-12d1af6b-2d3f-4813-b389-adb4aee812a4\">\n",
              "  <button class=\"colab-df-quickchart\" onclick=\"quickchart('df-12d1af6b-2d3f-4813-b389-adb4aee812a4')\"\n",
              "            title=\"Suggest charts\"\n",
              "            style=\"display:none;\">\n",
              "\n",
              "<svg xmlns=\"http://www.w3.org/2000/svg\" height=\"24px\"viewBox=\"0 0 24 24\"\n",
              "     width=\"24px\">\n",
              "    <g>\n",
              "        <path d=\"M19 3H5c-1.1 0-2 .9-2 2v14c0 1.1.9 2 2 2h14c1.1 0 2-.9 2-2V5c0-1.1-.9-2-2-2zM9 17H7v-7h2v7zm4 0h-2V7h2v10zm4 0h-2v-4h2v4z\"/>\n",
              "    </g>\n",
              "</svg>\n",
              "  </button>\n",
              "\n",
              "<style>\n",
              "  .colab-df-quickchart {\n",
              "      --bg-color: #E8F0FE;\n",
              "      --fill-color: #1967D2;\n",
              "      --hover-bg-color: #E2EBFA;\n",
              "      --hover-fill-color: #174EA6;\n",
              "      --disabled-fill-color: #AAA;\n",
              "      --disabled-bg-color: #DDD;\n",
              "  }\n",
              "\n",
              "  [theme=dark] .colab-df-quickchart {\n",
              "      --bg-color: #3B4455;\n",
              "      --fill-color: #D2E3FC;\n",
              "      --hover-bg-color: #434B5C;\n",
              "      --hover-fill-color: #FFFFFF;\n",
              "      --disabled-bg-color: #3B4455;\n",
              "      --disabled-fill-color: #666;\n",
              "  }\n",
              "\n",
              "  .colab-df-quickchart {\n",
              "    background-color: var(--bg-color);\n",
              "    border: none;\n",
              "    border-radius: 50%;\n",
              "    cursor: pointer;\n",
              "    display: none;\n",
              "    fill: var(--fill-color);\n",
              "    height: 32px;\n",
              "    padding: 0;\n",
              "    width: 32px;\n",
              "  }\n",
              "\n",
              "  .colab-df-quickchart:hover {\n",
              "    background-color: var(--hover-bg-color);\n",
              "    box-shadow: 0 1px 2px rgba(60, 64, 67, 0.3), 0 1px 3px 1px rgba(60, 64, 67, 0.15);\n",
              "    fill: var(--button-hover-fill-color);\n",
              "  }\n",
              "\n",
              "  .colab-df-quickchart-complete:disabled,\n",
              "  .colab-df-quickchart-complete:disabled:hover {\n",
              "    background-color: var(--disabled-bg-color);\n",
              "    fill: var(--disabled-fill-color);\n",
              "    box-shadow: none;\n",
              "  }\n",
              "\n",
              "  .colab-df-spinner {\n",
              "    border: 2px solid var(--fill-color);\n",
              "    border-color: transparent;\n",
              "    border-bottom-color: var(--fill-color);\n",
              "    animation:\n",
              "      spin 1s steps(1) infinite;\n",
              "  }\n",
              "\n",
              "  @keyframes spin {\n",
              "    0% {\n",
              "      border-color: transparent;\n",
              "      border-bottom-color: var(--fill-color);\n",
              "      border-left-color: var(--fill-color);\n",
              "    }\n",
              "    20% {\n",
              "      border-color: transparent;\n",
              "      border-left-color: var(--fill-color);\n",
              "      border-top-color: var(--fill-color);\n",
              "    }\n",
              "    30% {\n",
              "      border-color: transparent;\n",
              "      border-left-color: var(--fill-color);\n",
              "      border-top-color: var(--fill-color);\n",
              "      border-right-color: var(--fill-color);\n",
              "    }\n",
              "    40% {\n",
              "      border-color: transparent;\n",
              "      border-right-color: var(--fill-color);\n",
              "      border-top-color: var(--fill-color);\n",
              "    }\n",
              "    60% {\n",
              "      border-color: transparent;\n",
              "      border-right-color: var(--fill-color);\n",
              "    }\n",
              "    80% {\n",
              "      border-color: transparent;\n",
              "      border-right-color: var(--fill-color);\n",
              "      border-bottom-color: var(--fill-color);\n",
              "    }\n",
              "    90% {\n",
              "      border-color: transparent;\n",
              "      border-bottom-color: var(--fill-color);\n",
              "    }\n",
              "  }\n",
              "</style>\n",
              "\n",
              "  <script>\n",
              "    async function quickchart(key) {\n",
              "      const quickchartButtonEl =\n",
              "        document.querySelector('#' + key + ' button');\n",
              "      quickchartButtonEl.disabled = true;  // To prevent multiple clicks.\n",
              "      quickchartButtonEl.classList.add('colab-df-spinner');\n",
              "      try {\n",
              "        const charts = await google.colab.kernel.invokeFunction(\n",
              "            'suggestCharts', [key], {});\n",
              "      } catch (error) {\n",
              "        console.error('Error during call to suggestCharts:', error);\n",
              "      }\n",
              "      quickchartButtonEl.classList.remove('colab-df-spinner');\n",
              "      quickchartButtonEl.classList.add('colab-df-quickchart-complete');\n",
              "    }\n",
              "    (() => {\n",
              "      let quickchartButtonEl =\n",
              "        document.querySelector('#df-12d1af6b-2d3f-4813-b389-adb4aee812a4 button');\n",
              "      quickchartButtonEl.style.display =\n",
              "        google.colab.kernel.accessAllowed ? 'block' : 'none';\n",
              "    })();\n",
              "  </script>\n",
              "</div>\n",
              "\n",
              "    </div>\n",
              "  </div>\n"
            ],
            "application/vnd.google.colaboratory.intrinsic+json": {
              "type": "dataframe",
              "summary": "{\n  \"name\": \"display(reviews_df\",\n  \"rows\": 5,\n  \"fields\": [\n    {\n      \"column\": \"Text\",\n      \"properties\": {\n        \"dtype\": \"string\",\n        \"num_unique_values\": 5,\n        \"samples\": [\n          \"Product arrived labeled as Jumbo Salted Peanuts...the peanuts were actually small sized unsalted. Not sure if this was an error or if the vendor intended to represent the product as \\\"Jumbo\\\".\",\n          \"Great taffy at a great price.  There was a wide assortment of yummy taffy.  Delivery was very quick.  If your a taffy lover, this is a deal.\",\n          \"This is a confection that has been around a few centuries.  It is a light, pillowy citrus gelatin with nuts - in this case Filberts. And it is cut into tiny squares and then liberally coated with powdered sugar.  And it is a tiny mouthful of heaven.  Not too chewy, and very flavorful.  I highly recommend this yummy treat.  If you are familiar with the story of C.S. Lewis' \\\"The Lion, The Witch, and The Wardrobe\\\" - this is the treat that seduces Edmund into selling out his Brother and Sisters to the Witch.\"\n        ],\n        \"semantic_type\": \"\",\n        \"description\": \"\"\n      }\n    },\n    {\n      \"column\": \"Score\",\n      \"properties\": {\n        \"dtype\": \"number\",\n        \"std\": 1,\n        \"min\": 1,\n        \"max\": 5,\n        \"num_unique_values\": 4,\n        \"samples\": [\n          1,\n          2,\n          5\n        ],\n        \"semantic_type\": \"\",\n        \"description\": \"\"\n      }\n    },\n    {\n      \"column\": \"Summary\",\n      \"properties\": {\n        \"dtype\": \"string\",\n        \"num_unique_values\": 5,\n        \"samples\": [\n          \"Not as Advertised\",\n          \"Great taffy\",\n          \"\\\"Delight\\\" says it all\"\n        ],\n        \"semantic_type\": \"\",\n        \"description\": \"\"\n      }\n    },\n    {\n      \"column\": \"helpfulness_ratio\",\n      \"properties\": {\n        \"dtype\": \"number\",\n        \"std\": 0.5477225575051662,\n        \"min\": 0.0,\n        \"max\": 1.0,\n        \"num_unique_values\": 2,\n        \"samples\": [\n          0.0,\n          1.0\n        ],\n        \"semantic_type\": \"\",\n        \"description\": \"\"\n      }\n    }\n  ]\n}"
            }
          },
          "metadata": {}
        }
      ]
    },
    {
      "cell_type": "markdown",
      "source": [
        "## Check for duplicate entries  \n",
        "The duplicated() function is used to identify duplicate rows in the reviews_df DataFrame. The sum() function counts the number of duplicate entries, and the result is printed to show how many duplicates exist in the dataset.\n"
      ],
      "metadata": {
        "id": "GN7AbKBRaeLQ"
      }
    },
    {
      "cell_type": "code",
      "source": [
        "print(\"Number of duplicate entries:\", reviews_df.duplicated().sum())"
      ],
      "metadata": {
        "colab": {
          "base_uri": "https://localhost:8080/"
        },
        "id": "3v1oOJRTjlwg",
        "outputId": "d17bacc5-514d-488f-cfa8-cf546f9f65fe"
      },
      "execution_count": null,
      "outputs": [
        {
          "output_type": "stream",
          "name": "stdout",
          "text": [
            "Number of duplicate entries: 172591\n"
          ]
        }
      ]
    },
    {
      "cell_type": "markdown",
      "source": [
        "## Remove duplicate entries  \n",
        "The drop_duplicates() function is used to remove duplicate rows from the reviews_df DataFrame based on the 'Text' column. The operation is performed in-place, meaning the original DataFrame is modified. The shape of the DataFrame is printed after removing duplicates to show the updated size of the dataset.\n"
      ],
      "metadata": {
        "id": "w2KzvVdkamIa"
      }
    },
    {
      "cell_type": "code",
      "source": [
        "# Remove duplicates based on 'Text'\n",
        "reviews_df.drop_duplicates( inplace=True)\n",
        "print(\"\\nShape after removing duplicates:\", reviews_df.shape)"
      ],
      "metadata": {
        "colab": {
          "base_uri": "https://localhost:8080/"
        },
        "id": "jx6EqpsRkDFt",
        "outputId": "64a1a27d-114b-44d1-91ba-39834c255a6d"
      },
      "execution_count": null,
      "outputs": [
        {
          "output_type": "stream",
          "name": "stdout",
          "text": [
            "\n",
            "Shape after removing duplicates: (395861, 4)\n"
          ]
        }
      ]
    },
    {
      "cell_type": "markdown",
      "source": [
        "## Check for null values  \n",
        "The isnull().sum() function is used to check for any null values in each column of the reviews_df DataFrame. The result shows the number of missing values in each column, helping to assess the quality of the dataset and determine if any data imputation or cleaning is necessary.\n"
      ],
      "metadata": {
        "id": "m5XcNXqZa4pC"
      }
    },
    {
      "cell_type": "code",
      "source": [
        "# Check for null values\n",
        "print(\"\\nNull values in each column:\")\n",
        "print(reviews_df.isnull().sum())"
      ],
      "metadata": {
        "colab": {
          "base_uri": "https://localhost:8080/"
        },
        "id": "NFoExCwKj8No",
        "outputId": "277f605b-3543-4504-8caf-fb6109fa5cfd"
      },
      "execution_count": null,
      "outputs": [
        {
          "output_type": "stream",
          "name": "stdout",
          "text": [
            "\n",
            "Null values in each column:\n",
            "Text                 0\n",
            "Score                0\n",
            "Summary              3\n",
            "helpfulness_ratio    0\n",
            "dtype: int64\n"
          ]
        }
      ]
    },
    {
      "cell_type": "markdown",
      "source": [
        "## Remove rows with any null values  \n",
        "The dropna() function is used to remove rows with any null values from the reviews_df DataFrame. The operation is performed in-place, meaning the original DataFrame is modified. The shape of the DataFrame is printed after removing the null values to show the updated size of the dataset.\n"
      ],
      "metadata": {
        "id": "HmUirq7aa8w6"
      }
    },
    {
      "cell_type": "code",
      "source": [
        "# Remove rows with any null values\n",
        "reviews_df.dropna(axis=0, inplace=True)\n",
        "print(\"Shape after removing nulls:\", reviews_df.shape)"
      ],
      "metadata": {
        "colab": {
          "base_uri": "https://localhost:8080/"
        },
        "id": "QCXOPPWPkJvG",
        "outputId": "0cca6997-806e-4f82-a98a-d96c1ebb08d3"
      },
      "execution_count": null,
      "outputs": [
        {
          "output_type": "stream",
          "name": "stdout",
          "text": [
            "Shape after removing nulls: (395858, 4)\n"
          ]
        }
      ]
    },
    {
      "cell_type": "markdown",
      "source": [
        "## Check the shape of the dataset  \n",
        "The shape attribute is used to check the dimensions of the reviews_df DataFrame, providing the number of rows and columns in the dataset after cleaning the null values.\n"
      ],
      "metadata": {
        "id": "h3zXVSjPbE1i"
      }
    },
    {
      "cell_type": "code",
      "source": [
        "reviews_df.shape"
      ],
      "metadata": {
        "colab": {
          "base_uri": "https://localhost:8080/"
        },
        "id": "7DxDSFBpkP8O",
        "outputId": "322f3701-9e21-437f-ea3c-a708f1d91866"
      },
      "execution_count": null,
      "outputs": [
        {
          "output_type": "execute_result",
          "data": {
            "text/plain": [
              "(395858, 4)"
            ]
          },
          "metadata": {},
          "execution_count": 15
        }
      ]
    },
    {
      "cell_type": "markdown",
      "source": [
        "## Display score distribution  \n",
        "The value_counts() function is used on the 'Score' column of the reviews_df DataFrame to display the distribution of scores in the dataset. This shows how many reviews correspond to each score, helping to understand the distribution of ratings.\n"
      ],
      "metadata": {
        "id": "iTg2myZNbRor"
      }
    },
    {
      "cell_type": "code",
      "source": [
        "print(\"Score Distribution:\")\n",
        "reviews_df['Score'].value_counts()"
      ],
      "metadata": {
        "colab": {
          "base_uri": "https://localhost:8080/",
          "height": 290
        },
        "id": "fbx9pm0ikWWR",
        "outputId": "cc59da3a-3e32-46be-9a7a-2c4ebf6f1a8f"
      },
      "execution_count": null,
      "outputs": [
        {
          "output_type": "stream",
          "name": "stdout",
          "text": [
            "Score Distribution:\n"
          ]
        },
        {
          "output_type": "execute_result",
          "data": {
            "text/plain": [
              "Score\n",
              "5    252057\n",
              "4     56288\n",
              "1     36730\n",
              "3     29887\n",
              "2     20896\n",
              "Name: count, dtype: int64"
            ],
            "text/html": [
              "<div>\n",
              "<style scoped>\n",
              "    .dataframe tbody tr th:only-of-type {\n",
              "        vertical-align: middle;\n",
              "    }\n",
              "\n",
              "    .dataframe tbody tr th {\n",
              "        vertical-align: top;\n",
              "    }\n",
              "\n",
              "    .dataframe thead th {\n",
              "        text-align: right;\n",
              "    }\n",
              "</style>\n",
              "<table border=\"1\" class=\"dataframe\">\n",
              "  <thead>\n",
              "    <tr style=\"text-align: right;\">\n",
              "      <th></th>\n",
              "      <th>count</th>\n",
              "    </tr>\n",
              "    <tr>\n",
              "      <th>Score</th>\n",
              "      <th></th>\n",
              "    </tr>\n",
              "  </thead>\n",
              "  <tbody>\n",
              "    <tr>\n",
              "      <th>5</th>\n",
              "      <td>252057</td>\n",
              "    </tr>\n",
              "    <tr>\n",
              "      <th>4</th>\n",
              "      <td>56288</td>\n",
              "    </tr>\n",
              "    <tr>\n",
              "      <th>1</th>\n",
              "      <td>36730</td>\n",
              "    </tr>\n",
              "    <tr>\n",
              "      <th>3</th>\n",
              "      <td>29887</td>\n",
              "    </tr>\n",
              "    <tr>\n",
              "      <th>2</th>\n",
              "      <td>20896</td>\n",
              "    </tr>\n",
              "  </tbody>\n",
              "</table>\n",
              "</div><br><label><b>dtype:</b> int64</label>"
            ]
          },
          "metadata": {},
          "execution_count": 16
        }
      ]
    },
    {
      "cell_type": "markdown",
      "source": [
        "## Add binary_score for analysis  \n",
        "A new column, binary_score, is added to the reviews_df DataFrame. This column is generated by applying a function to the 'Score' column, where scores less than 4 are assigned a value of 0 (negative reviews), and scores 4 or above are assigned a value of 1 (positive reviews). This transformation helps simplify the analysis of reviews into two categories: positive and negative.\n"
      ],
      "metadata": {
        "id": "AzmZdZNQbZLx"
      }
    },
    {
      "cell_type": "code",
      "source": [
        "# Add binary_score for analysis\n",
        "reviews_df['binary_score'] = reviews_df['Score'].apply(lambda x: 0 if x < 4 else 1)"
      ],
      "metadata": {
        "id": "tEt3xfn1k7MW"
      },
      "execution_count": null,
      "outputs": []
    },
    {
      "cell_type": "markdown",
      "source": [
        "## Group by binary_score and check helpfulness_ratio stats  \n",
        "The groupby() function is used to group the reviews_df DataFrame by the binary_score column. For each group (positive and negative reviews), the describe() function is applied to the helpfulness_ratio column. This provides summary statistics such as mean, standard deviation, and percentiles for the helpfulness ratio, helping to compare the helpfulness of positive and negative reviews.\n"
      ],
      "metadata": {
        "id": "E0yJ7kWDbpwp"
      }
    },
    {
      "cell_type": "code",
      "source": [
        "# Group by binary_score and check helpfulness_ratio stats\n",
        "print(\"Helpfulness Ratio Stats by Binary Score:\")\n",
        "print(reviews_df.groupby('binary_score')['helpfulness_ratio'].describe())"
      ],
      "metadata": {
        "colab": {
          "base_uri": "https://localhost:8080/"
        },
        "id": "4gGbuuwDlDWK",
        "outputId": "a5634f64-5401-46af-f817-b2b20d4f22a3"
      },
      "execution_count": null,
      "outputs": [
        {
          "output_type": "stream",
          "name": "stdout",
          "text": [
            "Helpfulness Ratio Stats by Binary Score:\n",
            "                 count      mean       std  min  25%  50%       75%  max\n",
            "binary_score                                                            \n",
            "0              87513.0  0.383524  0.418787  0.0  0.0  0.2  0.833333  1.0\n",
            "1             308345.0  0.427690  0.476188  0.0  0.0  0.0  1.000000  1.0\n"
          ]
        }
      ]
    },
    {
      "cell_type": "markdown",
      "source": [
        "## Filter positive reviews based on helpfulness ratio  \n",
        "The reviews_df DataFrame is separated into positive and negative reviews using the binary_score column. Positive reviews are filtered to retain only those with a helpfulness_ratio greater than or equal to 0.5. The number of such filtered positive reviews is printed to show how many meet the criteria.\n"
      ],
      "metadata": {
        "id": "GceOV3o2b4Kd"
      }
    },
    {
      "cell_type": "code",
      "source": [
        "from sklearn.utils import resample\n",
        "\n",
        "# Separate classes\n",
        "df_positive = reviews_df[reviews_df['binary_score'] == 1]\n",
        "df_negative = reviews_df[reviews_df['binary_score'] == 0]\n",
        "\n",
        "# Filter positive reviews with helpfulness_ratio >= 0.5\n",
        "df_positive_filtered = df_positive[df_positive['helpfulness_ratio'] >= 0.5]\n",
        "print(\"Number of positive reviews with helpfulness_ratio >= 0.5:\", len(df_positive_filtered))\n"
      ],
      "metadata": {
        "colab": {
          "base_uri": "https://localhost:8080/"
        },
        "id": "4YRtRFT4m-Ci",
        "outputId": "7373f4ea-b219-4935-eb82-51974b2f7632"
      },
      "execution_count": null,
      "outputs": [
        {
          "output_type": "stream",
          "name": "stdout",
          "text": [
            "Number of positive reviews with helpfulness_ratio >= 0.5: 139221\n"
          ]
        }
      ]
    },
    {
      "cell_type": "markdown",
      "source": [
        "## Undersample filtered positive class to match negative class  \n",
        "The filtered positive class is undersampled using the resample function to match the size of the negative class. The replace=False parameter ensures no replacement, and n_samples is set to the size of the negative class. The resulting balanced dataset is then created by combining the undersampled positive class with the negative class.\n",
        "\n",
        "The shape of the balanced dataset is printed, followed by the new distribution of the binary scores. Finally, summary statistics for the helpfulness_ratio are displayed by grouping the data by binary_score, allowing comparison between positive and negative reviews.\n"
      ],
      "metadata": {
        "id": "sa6YihwucKTn"
      }
    },
    {
      "cell_type": "code",
      "source": [
        "# Undersample filtered positive class to match negative class\n",
        "df_positive_under = resample(df_positive_filtered, replace=False, n_samples=len(df_negative), random_state=42)\n",
        "\n",
        "# Combine\n",
        "balanced_df = pd.concat([df_positive_under, df_negative])\n",
        "print(\"Shape after hybrid balancing:\", balanced_df.shape)\n",
        "print(\"New Binary Score Distribution:\")\n",
        "print(balanced_df['binary_score'].value_counts())\n",
        "print(\"New Helpfulness Ratio Stats:\")\n",
        "print(balanced_df.groupby('binary_score')['helpfulness_ratio'].describe())"
      ],
      "metadata": {
        "colab": {
          "base_uri": "https://localhost:8080/"
        },
        "id": "5pJR3ANznCWb",
        "outputId": "ed01afa3-8651-4de6-d99b-d41907c53761"
      },
      "execution_count": null,
      "outputs": [
        {
          "output_type": "stream",
          "name": "stdout",
          "text": [
            "Shape after hybrid balancing: (175026, 5)\n",
            "New Binary Score Distribution:\n",
            "binary_score\n",
            "1    87513\n",
            "0    87513\n",
            "Name: count, dtype: int64\n",
            "New Helpfulness Ratio Stats:\n",
            "                count      mean       std  min  25%  50%       75%  max\n",
            "binary_score                                                           \n",
            "0             87513.0  0.383524  0.418787  0.0  0.0  0.2  0.833333  1.0\n",
            "1             87513.0  0.940897  0.139213  0.5  1.0  1.0  1.000000  1.0\n"
          ]
        }
      ]
    },
    {
      "cell_type": "markdown",
      "source": [
        "## Install contractions library  \n",
        "The command !pip install contractions is used to install the contractions library. This library is typically used for expanding common contractions in text (e.g., converting \"isn't\" to \"is not\"), which is useful in text preprocessing for natural language processing (NLP) tasks.\n"
      ],
      "metadata": {
        "id": "Aw-2pp2kcTZY"
      }
    },
    {
      "cell_type": "code",
      "source": [
        "!pip install contractions"
      ],
      "metadata": {
        "colab": {
          "base_uri": "https://localhost:8080/"
        },
        "id": "68Ys2Hnh8ZVQ",
        "outputId": "268bcd8c-ee46-4310-c7ea-2f6793a6f4b7"
      },
      "execution_count": null,
      "outputs": [
        {
          "output_type": "stream",
          "name": "stdout",
          "text": [
            "Collecting contractions\n",
            "  Downloading contractions-0.1.73-py2.py3-none-any.whl.metadata (1.2 kB)\n",
            "Collecting textsearch>=0.0.21 (from contractions)\n",
            "  Downloading textsearch-0.0.24-py2.py3-none-any.whl.metadata (1.2 kB)\n",
            "Collecting anyascii (from textsearch>=0.0.21->contractions)\n",
            "  Downloading anyascii-0.3.2-py3-none-any.whl.metadata (1.5 kB)\n",
            "Collecting pyahocorasick (from textsearch>=0.0.21->contractions)\n",
            "  Downloading pyahocorasick-2.1.0-cp311-cp311-manylinux_2_17_x86_64.manylinux2014_x86_64.whl.metadata (13 kB)\n",
            "Downloading contractions-0.1.73-py2.py3-none-any.whl (8.7 kB)\n",
            "Downloading textsearch-0.0.24-py2.py3-none-any.whl (7.6 kB)\n",
            "Downloading anyascii-0.3.2-py3-none-any.whl (289 kB)\n",
            "\u001b[2K   \u001b[90m━━━━━━━━━━━━━━━━━━━━━━━━━━━━━━━━━━━━━━━━\u001b[0m \u001b[32m289.9/289.9 kB\u001b[0m \u001b[31m4.5 MB/s\u001b[0m eta \u001b[36m0:00:00\u001b[0m\n",
            "\u001b[?25hDownloading pyahocorasick-2.1.0-cp311-cp311-manylinux_2_17_x86_64.manylinux2014_x86_64.whl (118 kB)\n",
            "\u001b[2K   \u001b[90m━━━━━━━━━━━━━━━━━━━━━━━━━━━━━━━━━━━━━━━━\u001b[0m \u001b[32m118.3/118.3 kB\u001b[0m \u001b[31m9.0 MB/s\u001b[0m eta \u001b[36m0:00:00\u001b[0m\n",
            "\u001b[?25hInstalling collected packages: pyahocorasick, anyascii, textsearch, contractions\n",
            "Successfully installed anyascii-0.3.2 contractions-0.1.73 pyahocorasick-2.1.0 textsearch-0.0.24\n"
          ]
        }
      ]
    },
    {
      "cell_type": "markdown",
      "source": [
        "## Import libraries for text preprocessing  \n",
        "The necessary libraries for text preprocessing are imported:  \n",
        "- re for regular expressions,  \n",
        "- nltk for various natural language processing tasks,  \n",
        "- contractions for expanding contractions in text,  \n",
        "- word_tokenize from nltk for tokenizing text into words,  \n",
        "- stopwords from nltk.corpus for removing common words like \"and\", \"the\", etc.,  \n",
        "- WordNetLemmatizer from nltk.stem for lemmatization (converting words to their base form),  \n",
        "- BeautifulSoup from bs4 for parsing HTML content.  \n",
        "\n",
        "Additionally, nltk.download('averaged_perceptron_tagger_eng') is used to download a pre-trained part-of-speech tagger, which will be used for identifying the parts of speech in the text.\n",
        "\n"
      ],
      "metadata": {
        "id": "wl6SvGy-cnfa"
      }
    },
    {
      "cell_type": "code",
      "source": [
        "import re\n",
        "import nltk\n",
        "import contractions\n",
        "from nltk.tokenize import word_tokenize\n",
        "from nltk.corpus import stopwords, wordnet\n",
        "from nltk.stem import WordNetLemmatizer\n",
        "from bs4 import BeautifulSoup\n",
        "nltk.download('averaged_perceptron_tagger_eng')"
      ],
      "metadata": {
        "colab": {
          "base_uri": "https://localhost:8080/"
        },
        "id": "XaffoIywljjD",
        "outputId": "9a0c6637-428a-436c-8cc3-9802c3bf74ba"
      },
      "execution_count": null,
      "outputs": [
        {
          "output_type": "stream",
          "name": "stderr",
          "text": [
            "[nltk_data] Downloading package averaged_perceptron_tagger_eng to\n",
            "[nltk_data]     /root/nltk_data...\n",
            "[nltk_data]   Unzipping taggers/averaged_perceptron_tagger_eng.zip.\n"
          ]
        },
        {
          "output_type": "execute_result",
          "data": {
            "text/plain": [
              "True"
            ]
          },
          "metadata": {},
          "execution_count": 22
        }
      ]
    },
    {
      "cell_type": "markdown",
      "source": [
        "## Text preprocessing function  \n",
        "This code defines a preprocess_text function that performs several text preprocessing steps on input text:\n",
        "\n",
        "1. **HTML parsing**: It removes any HTML tags using BeautifulSoup.\n",
        "2. **Contraction expansion**: The contractions.fix() function is used to expand contractions (e.g., \"isn't\" to \"is not\").\n",
        "3. **Text normalization**: The text is converted to lowercase, slashes are replaced with spaces, and non-alphabetic characters are removed.\n",
        "4. **Tokenization**: The text is tokenized into individual words using word_tokenize.\n",
        "5. **Stopword removal**: Common words like \"and\", \"the\", etc., are removed, except for negations such as \"not\", \"no\", and \"never\".\n",
        "6. **Negation handling**: The function handle_negation is used to add a \"_NEG\" suffix to words following negations to indicate negation sentiment.\n",
        "7. **POS tagging and lemmatization**: Parts of speech (POS) tags are assigned to tokens using nltk.pos_tag(), and words are lemmatized based on their POS.\n",
        "\n",
        "The function is applied to both the 'Text' and 'Summary' columns of the balanced_df DataFrame, creating two new columns: processed_text and processed_summary, containing the preprocessed text for analysis.\n"
      ],
      "metadata": {
        "id": "vng4TUVucyaw"
      }
    },
    {
      "cell_type": "code",
      "source": [
        "import nltk\n",
        "import re\n",
        "import contractions\n",
        "from nltk.tokenize import word_tokenize\n",
        "from nltk.corpus import stopwords\n",
        "from nltk.stem import WordNetLemmatizer\n",
        "from bs4 import BeautifulSoup\n",
        "\n",
        "nltk.download('punkt')\n",
        "nltk.download('punkt_tab')\n",
        "nltk.download('stopwords')\n",
        "nltk.download('wordnet')\n",
        "nltk.download('averaged_perceptron_tagger_eng')  # For POS tagging\n",
        "\n",
        "stop_words = set(stopwords.words('english'))\n",
        "stop_words.discard('not')\n",
        "stop_words.discard('no')\n",
        "stop_words.discard('never')\n",
        "lemmatizer = WordNetLemmatizer()\n",
        "\n",
        "def preprocess_text(text):\n",
        "    text = BeautifulSoup(text, 'html.parser').get_text(separator=' ')\n",
        "    text = contractions.fix(text)\n",
        "    text = text.lower()\n",
        "    text = re.sub(r'/', ' ', text)\n",
        "    text = re.sub(r'[^a-zA-Z\\s]', '', text)\n",
        "    text = re.sub(r'\\s+', ' ', text).strip()\n",
        "    tokens = word_tokenize(text)\n",
        "    tokens = [token for token in tokens if token not in stop_words]\n",
        "\n",
        "    def handle_negation(tokens):\n",
        "        result = []\n",
        "        negated = False\n",
        "        for token in tokens:\n",
        "            if token in ['not', 'no', 'never', 'nt']:\n",
        "                negated = True\n",
        "                result.append(token)\n",
        "            elif negated and token not in stop_words:\n",
        "                result.append(token + '_NEG')\n",
        "                negated = False\n",
        "            else:\n",
        "                result.append(token)\n",
        "                negated = False\n",
        "        return result\n",
        "\n",
        "    def get_wordnet_pos(treebank_tag):\n",
        "        if treebank_tag.startswith('V'):  # Verb\n",
        "            return 'v'\n",
        "        elif treebank_tag.startswith('N'):  # Noun\n",
        "            return 'n'\n",
        "        elif treebank_tag.startswith('J'):  # Adjective\n",
        "            return 'a'\n",
        "        elif treebank_tag.startswith('R'):  # Adverb\n",
        "            return 'r'\n",
        "        else:\n",
        "            return 'n'  # Default to noun\n",
        "\n",
        "    tokens = handle_negation(tokens)\n",
        "    # tokens = [lemmatizer.lemmatize(token, pos='v') if '_NEG' not in token else token for token in tokens]\n",
        "    pos_tags = nltk.pos_tag(tokens)\n",
        "    tokens = [\n",
        "        lemmatizer.lemmatize(token, pos=get_wordnet_pos(tag)) if '_NEG' not in token else token\n",
        "        for token, tag in pos_tags\n",
        "    ]\n",
        "    return ' '.join(tokens)\n",
        "\n",
        "# Apply to dataset\n",
        "balanced_df['processed_text'] = balanced_df['Text'].apply(preprocess_text)\n",
        "balanced_df['processed_summary'] = balanced_df['Summary'].apply(preprocess_text)"
      ],
      "metadata": {
        "colab": {
          "base_uri": "https://localhost:8080/"
        },
        "id": "eH6LMEzwE2sG",
        "outputId": "68f98684-1ba9-4d00-e33d-f23f23662182"
      },
      "execution_count": null,
      "outputs": [
        {
          "output_type": "stream",
          "name": "stderr",
          "text": [
            "[nltk_data] Downloading package punkt to /root/nltk_data...\n",
            "[nltk_data]   Unzipping tokenizers/punkt.zip.\n",
            "[nltk_data] Downloading package punkt_tab to /root/nltk_data...\n",
            "[nltk_data]   Unzipping tokenizers/punkt_tab.zip.\n",
            "[nltk_data] Downloading package stopwords to /root/nltk_data...\n",
            "[nltk_data]   Unzipping corpora/stopwords.zip.\n",
            "[nltk_data] Downloading package wordnet to /root/nltk_data...\n",
            "[nltk_data] Downloading package averaged_perceptron_tagger_eng to\n",
            "[nltk_data]     /root/nltk_data...\n",
            "[nltk_data]   Package averaged_perceptron_tagger_eng is already up-to-\n",
            "[nltk_data]       date!\n",
            "<ipython-input-23-1596191dd629>:22: MarkupResemblesLocatorWarning: The input passed in on this line looks more like a URL than HTML or XML.\n",
            "\n",
            "If you meant to use Beautiful Soup to parse the web page found at a certain URL, then something has gone wrong. You should use an Python package like 'requests' to fetch the content behind the URL. Once you have the content as a string, you can feed that string into Beautiful Soup.\n",
            "\n",
            "However, if you want to parse some data that happens to look like a URL, then nothing has gone wrong: you are using Beautiful Soup correctly, and this warning is spurious and can be filtered. To make this warning go away, run this code before calling the BeautifulSoup constructor:\n",
            "\n",
            "    from bs4 import MarkupResemblesLocatorWarning\n",
            "    import warnings\n",
            "\n",
            "    warnings.filterwarnings(\"ignore\", category=MarkupResemblesLocatorWarning)\n",
            "    \n",
            "  text = BeautifulSoup(text, 'html.parser').get_text(separator=' ')\n"
          ]
        }
      ]
    },
    {
      "cell_type": "markdown",
      "source": [
        "## Display text from a specific row  \n",
        "The code retrieves and displays the text from the 'Text' column at index 2496 in the balanced_df DataFrame. This allows you to inspect the content of a specific review in the dataset.\n"
      ],
      "metadata": {
        "id": "JtZYkeYlc4WR"
      }
    },
    {
      "cell_type": "code",
      "source": [
        "balanced_df['Text'][2496]"
      ],
      "metadata": {
        "id": "YxLCogQ-31Rq",
        "colab": {
          "base_uri": "https://localhost:8080/",
          "height": 109
        },
        "outputId": "82d5079d-416b-4af1-9ac2-b8e2607bf0c2"
      },
      "execution_count": null,
      "outputs": [
        {
          "output_type": "execute_result",
          "data": {
            "text/plain": [
              "\"It seems most of the organic/shade grown/fair trade coffee is medium or dark roasted, so I've been having a hard time finding something that I like.  While this doesn't wow me like some other coffees, it's priced cheaper than those coffees and it's a good brew for when I'm not really paying attention to what I'm drinking (like when I'm working).<br /><br />I'm definitely going to keep this one around, and just switch to the expensive (better) coffees that I've found when I can really enjoy them.<br /><br />Compared to other coffee that's not organic/shade grown/fair trade, this is an average light roast.  Good, but nothing to get excited over.  It's worth purchasing over those coffees because of the growing practices.\""
            ],
            "application/vnd.google.colaboratory.intrinsic+json": {
              "type": "string"
            }
          },
          "metadata": {},
          "execution_count": 24
        }
      ]
    },
    {
      "cell_type": "markdown",
      "source": [
        "## Display processed text from a specific row  \n",
        "The code retrieves and displays the processed text from the 'processed_text' column at index 2496 in the balanced_df DataFrame. This allows you to inspect the preprocessed version of a specific review in the dataset after applying text preprocessing steps.\n"
      ],
      "metadata": {
        "id": "QKPB04-Yc97A"
      }
    },
    {
      "cell_type": "code",
      "source": [
        "balanced_df['processed_text'][2496]"
      ],
      "metadata": {
        "id": "IDrfisCS3soF",
        "colab": {
          "base_uri": "https://localhost:8080/",
          "height": 72
        },
        "outputId": "68514f7a-6426-4140-ab91-53cad4489d9e"
      },
      "execution_count": null,
      "outputs": [
        {
          "output_type": "execute_result",
          "data": {
            "text/plain": [
              "'seem organic shade grow fair trade coffee medium dark roast hard time find something like not wow_NEG like coffee price cheap coffee good brew not really_NEG pay attention drinking like work definitely go keep one around switch expensive good coffee find really enjoy compare coffee not organic_NEG shade grown fair trade average light roast good nothing get excite worth purchase coffee grow practice'"
            ],
            "application/vnd.google.colaboratory.intrinsic+json": {
              "type": "string"
            }
          },
          "metadata": {},
          "execution_count": 25
        }
      ]
    },
    {
      "cell_type": "markdown",
      "source": [
        "## Word frequency analysis and vocabulary optimization  \n",
        "This code performs word frequency analysis on the combined processed text and summary tokens from the balanced_df DataFrame. It counts the frequency of each word and calculates the cumulative coverage of words based on their frequency.\n",
        "\n",
        "1. **Word frequency**: The frequency of each word is counted using Counter and stored in word_freq. The total number of tokens is calculated by summing the frequencies.\n",
        "2. **Cumulative coverage**: The cumulative coverage of words is computed by summing the frequencies in sorted order and dividing by the total token count.\n",
        "3. **Optimal vocabulary size**: The optimal vocabulary size that provides 95% coverage is determined by finding the smallest number of words that account for at least 95% of the total token coverage.\n",
        "\n",
        "The results, including the total number of unique words, the optimal vocabulary size, and the top 10 most frequent words, are printed for further analysis.\n"
      ],
      "metadata": {
        "id": "JDS_VW0mdEVw"
      }
    },
    {
      "cell_type": "code",
      "source": [
        "from collections import Counter\n",
        "import numpy as np\n",
        "\n",
        "# Combine all processed text and summary tokens\n",
        "all_text = balanced_df['processed_text'].tolist() + balanced_df['processed_summary'].tolist()\n",
        "all_tokens = ' '.join(all_text).split()\n",
        "\n",
        "# Count word frequencies\n",
        "word_freq = Counter(all_tokens)\n",
        "total_tokens = sum(word_freq.values())\n",
        "sorted_freq = sorted(word_freq.items(), key=lambda x: x[1], reverse=True)\n",
        "\n",
        "# Cumulative coverage\n",
        "cumulative_tokens = np.cumsum([freq for _, freq in sorted_freq])\n",
        "coverage = cumulative_tokens / total_tokens\n",
        "\n",
        "# Find optimal vocab size for 95% coverage\n",
        "optimal_max_words = next(i for i, cov in enumerate(coverage) if cov >= 0.95) + 1\n",
        "\n",
        "print(\"Total unique words:\", len(word_freq))\n",
        "print(\"Optimal max_words for 95% coverage:\", optimal_max_words)\n",
        "print(\"Top 10 words:\", sorted_freq[:10])"
      ],
      "metadata": {
        "id": "QOEqhR89XhKT",
        "colab": {
          "base_uri": "https://localhost:8080/"
        },
        "outputId": "acaeb8c7-9fd3-468c-978c-f92d25d95e22"
      },
      "execution_count": null,
      "outputs": [
        {
          "output_type": "stream",
          "name": "stdout",
          "text": [
            "Total unique words: 130491\n",
            "Optimal max_words for 95% coverage: 8358\n",
            "Top 10 words: [('not', 273956), ('taste', 95924), ('like', 89938), ('good', 77756), ('product', 74557), ('flavor', 68462), ('one', 61744), ('would', 61414), ('make', 59509), ('use', 57823)]\n"
          ]
        }
      ]
    },
    {
      "cell_type": "markdown",
      "source": [
        "## Analyze and plot text length distribution  \n",
        "This code calculates the length of the processed text in terms of token count for each review in the balanced_df DataFrame. The following steps are performed:\n",
        "\n",
        "1. **Calculate text length**: The length of each processed text is computed by counting the number of tokens (words) using the split() function.\n",
        "2. **Statistics**: Percentiles (50th, 75th, 90th, 95th, and 99th) of the text lengths are calculated using np.percentile() to understand the distribution of text lengths across the dataset.\n",
        "3. **Plot distribution**: A histogram is plotted to visualize the distribution of processed text lengths, with the x-axis representing the number of tokens and the y-axis representing the frequency of reviews falling within certain token ranges.\n",
        "4. **Optimal length suggestion**: The 90th percentile of text length is suggested as the optimal maximum length, indicating that 90% of the reviews are within this length range.\n",
        "\n",
        "The results, including the text length percentiles and the suggested optimal text length, are printed.\n"
      ],
      "metadata": {
        "id": "8WJ3_6afdQFI"
      }
    },
    {
      "cell_type": "code",
      "source": [
        "import matplotlib.pyplot as plt\n",
        "\n",
        "# Calculate token lengths\n",
        "text_lengths = balanced_df['processed_text'].apply(lambda x: len(x.split()))\n",
        "\n",
        "# Statistics\n",
        "percentiles = np.percentile(text_lengths, [50, 75, 90, 95, 99])\n",
        "print(\"Text length percentiles:\")\n",
        "print(f\"50th (median): {percentiles[0]}\")\n",
        "print(f\"75th: {percentiles[1]}\")\n",
        "print(f\"90th: {percentiles[2]}\")\n",
        "print(f\"95th: {percentiles[3]}\")\n",
        "print(f\"99th: {percentiles[4]}\")\n",
        "\n",
        "# Plot distribution\n",
        "plt.hist(text_lengths, bins=50, range=(0, 200))\n",
        "plt.title(\"Distribution of Processed Text Lengths\")\n",
        "plt.xlabel(\"Number of Tokens\")\n",
        "plt.ylabel(\"Frequency\")\n",
        "plt.show()\n",
        "\n",
        "# Suggest optimal length\n",
        "optimal_len_text = int(percentiles[2])  # 90th percentile\n",
        "print(\"Suggested max_len_text (90% coverage):\", optimal_len_text)"
      ],
      "metadata": {
        "id": "0RJfTFaTXvEf",
        "colab": {
          "base_uri": "https://localhost:8080/",
          "height": 600
        },
        "outputId": "45071a00-85cc-4de0-e6e5-d46f448b1aad"
      },
      "execution_count": null,
      "outputs": [
        {
          "output_type": "stream",
          "name": "stdout",
          "text": [
            "Text length percentiles:\n",
            "50th (median): 32.0\n",
            "75th: 55.0\n",
            "90th: 90.0\n",
            "95th: 122.0\n",
            "99th: 215.0\n"
          ]
        },
        {
          "output_type": "display_data",
          "data": {
            "text/plain": [
              "<Figure size 640x480 with 1 Axes>"
            ],
            "image/png": "[encoded data removed]"
          },
          "metadata": {}
        },
        {
          "output_type": "stream",
          "name": "stdout",
          "text": [
            "Suggested max_len_text (90% coverage): 90\n"
          ]
        }
      ]
    },
    {
      "cell_type": "markdown",
      "source": [
        "## Analyze and plot summary length distribution  \n",
        "This code calculates the length of the processed summaries in terms of token count for each review in the balanced_df DataFrame. The following steps are performed:\n",
        "\n",
        "1. **Calculate summary length**: The length of each processed summary is computed by counting the number of tokens (words) using the split() function.\n",
        "2. **Statistics**: Percentiles (50th, 75th, 90th, 95th, and 99th) of the summary lengths are calculated using np.percentile() to understand the distribution of summary lengths across the dataset.\n",
        "3. **Plot distribution**: A histogram is plotted to visualize the distribution of processed summary lengths, with the x-axis representing the number of tokens and the y-axis representing the frequency of reviews falling within certain token ranges.\n",
        "4. **Optimal length suggestion**: The 95th percentile of summary length is suggested as the optimal maximum length, indicating that 95% of the summaries are within this length range.\n",
        "\n",
        "The results, including the summary length percentiles and the suggested optimal summary length, are printed.\n"
      ],
      "metadata": {
        "id": "iqBUN3Z9dcJ9"
      }
    },
    {
      "cell_type": "code",
      "source": [
        "summary_lengths = balanced_df['processed_summary'].apply(lambda x: len(x.split()))\n",
        "\n",
        "percentiles = np.percentile(summary_lengths, [50, 75, 90, 95, 99])\n",
        "print(\"Summary length percentiles:\")\n",
        "print(f\"50th (median): {percentiles[0]}\")\n",
        "print(f\"75th: {percentiles[1]}\")\n",
        "print(f\"90th: {percentiles[2]}\")\n",
        "print(f\"95th: {percentiles[3]}\")\n",
        "print(f\"99th: {percentiles[4]}\")\n",
        "\n",
        "plt.hist(summary_lengths, bins=20, range=(0, 20))\n",
        "plt.title(\"Distribution of Processed Summary Lengths\")\n",
        "plt.xlabel(\"Number of Tokens\")\n",
        "plt.ylabel(\"Frequency\")\n",
        "plt.show()\n",
        "\n",
        "optimal_len_summary = int(percentiles[3])  # 95th percentile\n",
        "print(\"Suggested max_len_summary (95% coverage):\", optimal_len_summary)"
      ],
      "metadata": {
        "id": "PH1Ic5DZX7wf",
        "colab": {
          "base_uri": "https://localhost:8080/",
          "height": 600
        },
        "outputId": "665d99fa-62d0-42e7-b5a4-623b219d2b05"
      },
      "execution_count": null,
      "outputs": [
        {
          "output_type": "stream",
          "name": "stdout",
          "text": [
            "Summary length percentiles:\n",
            "50th (median): 3.0\n",
            "75th: 4.0\n",
            "90th: 5.0\n",
            "95th: 6.0\n",
            "99th: 8.0\n"
          ]
        },
        {
          "output_type": "display_data",
          "data": {
            "text/plain": [
              "<Figure size 640x480 with 1 Axes>"
            ],
            "image/png": "[encoded data removed]"
          },
          "metadata": {}
        },
        {
          "output_type": "stream",
          "name": "stdout",
          "text": [
            "Suggested max_len_summary (95% coverage): 6\n"
          ]
        }
      ]
    },
    {
      "cell_type": "markdown",
      "source": [
        "## Install and import dependencies  \n",
        "The necessary libraries for text preprocessing and tokenization are imported:  \n",
        "- numpy for numerical operations,  \n",
        "- Tokenizer from tensorflow.keras.preprocessing.text for converting text into sequences of integers,  \n",
        "- pad_sequences from tensorflow.keras.preprocessing.sequence for ensuring that all sequences have the same length by padding them.\n",
        "\n",
        "These tools will be used for preparing text data for training machine learning models.\n"
      ],
      "metadata": {
        "id": "DImHI6kxd2tX"
      }
    },
    {
      "cell_type": "code",
      "source": [
        "# Install and import dependencies\n",
        "import numpy as np\n",
        "from tensorflow.keras.preprocessing.text import Tokenizer\n",
        "from tensorflow.keras.preprocessing.sequence import pad_sequences\n"
      ],
      "metadata": {
        "id": "IYc9PAYoY8_g"
      },
      "execution_count": null,
      "outputs": []
    },
    {
      "cell_type": "markdown",
      "source": [
        "## Tokenization and padding of text and summary sequences  \n",
        "The code sets optimized parameters for the vocabulary size, text length, and summary length based on previous analysis.\n",
        "\n",
        "1. **Tokenizer Initialization and Fitting**:  \n",
        "   The Tokenizer is initialized with the specified max_words (vocabulary size) and an out-of-vocabulary token (<OOV>). It is then fitted on both the processed text and summary columns of the balanced_df DataFrame to create a word index for the dataset.\n",
        "\n",
        "2. **Text to Sequences**:  \n",
        "   The texts_to_sequences function is used to convert both the processed text and summaries into sequences of integers, where each word is replaced by its corresponding index from the tokenizer’s word index.\n",
        "\n",
        "3. **Padding Sequences**:  \n",
        "   The pad_sequences function ensures that all text and summary sequences have the same length (max_len_text and max_len_summary, respectively). Sequences are padded at the end (post padding) and truncated if they exceed the specified lengths.\n",
        "\n",
        "The vocabulary size, first 5 padded text sequences, first 5 padded summary sequences, and the shapes of X_text and X_summary are printed to verify the results.\n"
      ],
      "metadata": {
        "id": "alp9Lq9Gd80p"
      }
    },
    {
      "cell_type": "code",
      "source": [
        "\n",
        "# Set optimized parameters\n",
        "max_words = 8358       # 95% vocabulary coverage\n",
        "max_len_text = 90      # 90% text length coverage\n",
        "max_len_summary = 6    # 95% summary length coverage\n",
        "\n",
        "# Initialize and fit tokenizer\n",
        "tokenizer = Tokenizer(num_words=max_words, oov_token='<OOV>')\n",
        "tokenizer.fit_on_texts(balanced_df['processed_text'].tolist() + balanced_df['processed_summary'].tolist())\n",
        "\n",
        "# Convert text to sequences\n",
        "text_sequences = tokenizer.texts_to_sequences(balanced_df['processed_text'])\n",
        "summary_sequences = tokenizer.texts_to_sequences(balanced_df['processed_summary'])\n",
        "\n",
        "# Pad sequences\n",
        "X_text = pad_sequences(text_sequences, maxlen=max_len_text, padding='post', truncating='post')\n",
        "X_summary = pad_sequences(summary_sequences, maxlen=max_len_summary, padding='post', truncating='post')\n",
        "\n",
        "# Verify\n",
        "print(\"Vocabulary size:\", len(tokenizer.word_index) + 1)\n",
        "print(\"First 5 padded text sequences:\")\n",
        "print(X_text[:5])\n",
        "print(\"\\nFirst 5 padded summary sequences:\")\n",
        "print(X_summary[:5])\n",
        "print(\"\\nShape of X_text:\", X_text.shape)\n",
        "print(\"Shape of X_summary:\", X_summary.shape)"
      ],
      "metadata": {
        "id": "mI5slqyCY70-",
        "colab": {
          "base_uri": "https://localhost:8080/"
        },
        "outputId": "7524b7e6-b1c9-477b-f51f-74736b65fa54"
      },
      "execution_count": null,
      "outputs": [
        {
          "output_type": "stream",
          "name": "stdout",
          "text": [
            "Vocabulary size: 119149\n",
            "First 5 padded text sequences:\n",
            "[[  84   89 3520  442  787 1568   15  641  219  208  113   27   21   80\n",
            "     5    3  719    2    5   15   29  186   15    6  263    3   25    2\n",
            "   209 1436  703    5   65  178   24   99    9  196  430  176    6   15\n",
            "    21   25  107  281   15    3   89    2 3520 1757  787 1568  753  241\n",
            "   208    6  181   10  692  170   61   15  442 2117    0    0    0    0\n",
            "     0    0    0    0    0    0    0    0    0    0    0    0    0    0\n",
            "     0    0    0    0    0    0]\n",
            " [ 604  388   30  895  155  396  190  561  142    5   12  167  121  267\n",
            "    14    7    0    0    0    0    0    0    0    0    0    0    0    0\n",
            "     0    0    0    0    0    0    0    0    0    0    0    0    0    0\n",
            "     0    0    0    0    0    0    0    0    0    0    0    0    0    0\n",
            "     0    0    0    0    0    0    0    0    0    0    0    0    0    0\n",
            "     0    0    0    0    0    0    0    0    0    0    0    0    0    0\n",
            "     0    0    0    0    0    0]\n",
            " [   6 2913 1372  229 1207  117  229   31  968 4812 5932   59    1   61\n",
            "   180 1372  207  131    6  236 1054    1  229  835 1372  200  221    1\n",
            "     3  163    2 1372 1791 2518 1791   51  159  233  413 4294 2881 2055\n",
            "  1372   70  391  200  594   36 1508  144  180  200  131  579 1330  236\n",
            "    76  200  131  579  236 1882    6 2913  422  229   12 1007    1  438\n",
            "   129  161    8  125   31  310   18 2603   85    1    2 1423  147    0\n",
            "     0    0    0    0    0    0]\n",
            " [ 781  256 1353   39  851  170    8 1283  173  947    1  116    0    0\n",
            "     0    0    0    0    0    0    0    0    0    0    0    0    0    0\n",
            "     0    0    0    0    0    0    0    0    0    0    0    0    0    0\n",
            "     0    0    0    0    0    0    0    0    0    0    0    0    0    0\n",
            "     0    0    0    0    0    0    0    0    0    0    0    0    0    0\n",
            "     0    0    0    0    0    0    0    0    0    0    0    0    0    0\n",
            "     0    0    0    0    0    0]\n",
            " [ 310   83   19  374  289  498 3407  532  256   73    0    0    0    0\n",
            "     0    0    0    0    0    0    0    0    0    0    0    0    0    0\n",
            "     0    0    0    0    0    0    0    0    0    0    0    0    0    0\n",
            "     0    0    0    0    0    0    0    0    0    0    0    0    0    0\n",
            "     0    0    0    0    0    0    0    0    0    0    0    0    0    0\n",
            "     0    0    0    0    0    0    0    0    0    0    0    0    0    0\n",
            "     0    0    0    0    0    0]]\n",
            "\n",
            "First 5 padded summary sequences:\n",
            "[[ 501  241  208   89    0    0]\n",
            " [  14  187  356    0    0    0]\n",
            " [ 117 1749 1048    0    0    0]\n",
            " [  33   68   97    0    0    0]\n",
            " [ 529    7    0    0    0    0]]\n",
            "\n",
            "Shape of X_text: (175026, 90)\n",
            "Shape of X_summary: (175026, 6)\n"
          ]
        }
      ]
    },
    {
      "cell_type": "markdown",
      "source": [
        "## Prepare Inputs and Train-Test Split\n",
        "Converts preprocessed text, summary, and helpfulness ratio into NumPy arrays and prepares the target labels. The data is then split into training and testing sets using an 80/20 split. This prepares three input branches—text, summary, and numerical helpfulness—for multi-input model training. Final shapes of all splits are printed for verification.\n"
      ],
      "metadata": {
        "id": "POmbelWBeR1a"
      }
    },
    {
      "cell_type": "code",
      "source": [
        "import numpy as np\n",
        "from sklearn.model_selection import train_test_split\n",
        "\n",
        "# Prepare inputs\n",
        "X_text = np.array(X_text)  # Already done, just ensuring\n",
        "X_summary = np.array(X_summary)  # Already done\n",
        "X_helpfulness = balanced_df['helpfulness_ratio'].values.reshape(-1, 1)  # Reshape for model\n",
        "y = balanced_df['binary_score'].values\n",
        "\n",
        "# Train-test split (80% train, 20% test)\n",
        "X_text_train, X_text_test, X_summary_train, X_summary_test, X_help_train, X_help_test, y_train, y_test = train_test_split(\n",
        "    X_text, X_summary, X_helpfulness, y, test_size=0.2, random_state=42\n",
        ")\n",
        "\n",
        "# Verify shapes\n",
        "print(\"Training shapes:\")\n",
        "print(\"X_text_train:\", X_text_train.shape)\n",
        "print(\"X_summary_train:\", X_summary_train.shape)\n",
        "print(\"X_help_train:\", X_help_train.shape)\n",
        "print(\"y_train:\", y_train.shape)\n",
        "print(\"\\nTesting shapes:\")\n",
        "print(\"X_text_test:\", X_text_test.shape)\n",
        "print(\"X_summary_test:\", X_summary_test.shape)\n",
        "print(\"X_help_test:\", X_help_test.shape)\n",
        "print(\"y_test:\", y_test.shape)"
      ],
      "metadata": {
        "id": "UgxrQjk-b3NL",
        "colab": {
          "base_uri": "https://localhost:8080/"
        },
        "outputId": "f4deceee-2ad5-4462-b0d5-ae9fd7a81e12"
      },
      "execution_count": null,
      "outputs": [
        {
          "output_type": "stream",
          "name": "stdout",
          "text": [
            "Training shapes:\n",
            "X_text_train: (140020, 90)\n",
            "X_summary_train: (140020, 6)\n",
            "X_help_train: (140020, 1)\n",
            "y_train: (140020,)\n",
            "\n",
            "Testing shapes:\n",
            "X_text_test: (35006, 90)\n",
            "X_summary_test: (35006, 6)\n",
            "X_help_test: (35006, 1)\n",
            "y_test: (35006,)\n"
          ]
        }
      ]
    },
    {
      "cell_type": "markdown",
      "source": [
        "## Create tf.data Datasets with Augmentation\n",
        "Defines a custom data augmentation function for a multi-input model with three inputs: text, summary, and helpfulness ratio. The function:\n",
        "- Randomly masks 10% of tokens in both text and summary sequences\n",
        "- Adds small Gaussian noise to the helpfulness ratio and clips it between 0 and 1\n",
        "\n",
        "The training data is wrapped in a TensorFlow Dataset, augmented using map, shuffled, and batched for efficient training. The validation data is converted to a batched dataset without augmentation.\n"
      ],
      "metadata": {
        "id": "-OxtYxZLuOzo"
      }
    },
    {
      "cell_type": "code",
      "source": [
        "import tensorflow as tf\n",
        "\n",
        "# Create training dataset with augmentation\n",
        "def augment_data(inputs, label):\n",
        "    text, summary, help = inputs\n",
        "    # Cast help to float32 to match TensorFlow's default dtype\n",
        "    help = tf.cast(help, tf.float32)\n",
        "    # Augment text: randomly set some tokens to 0 (padding token)\n",
        "    mask_text = tf.random.uniform(shape=tf.shape(text)) < 0.9  # Keep 90% of tokens\n",
        "    text = tf.where(mask_text, text, 0)\n",
        "    # Augment summary: randomly set some tokens to 0\n",
        "    mask_summary = tf.random.uniform(shape=tf.shape(summary)) < 0.9\n",
        "    summary = tf.where(mask_summary, summary, 0)\n",
        "    # Add noise to helpfulness ratio\n",
        "    help = help + tf.random.normal(shape=tf.shape(help), mean=0.0, stddev=0.01, dtype=tf.float32)\n",
        "    help = tf.clip_by_value(help, 0.0, 1.0)  # Ensure ratio stays between 0 and 1\n",
        "    return (text, summary, help), label\n",
        "\n",
        "# Convert training data to tf.data.Dataset\n",
        "train_dataset = tf.data.Dataset.from_tensor_slices(((X_text_train, X_summary_train, X_help_train), y_train))\n",
        "train_dataset = train_dataset.map(augment_data, num_parallel_calls=tf.data.AUTOTUNE)\n",
        "train_dataset = train_dataset.shuffle(buffer_size=10000).batch(64)\n",
        "\n",
        "# Create validation dataset without augmentation\n",
        "val_dataset = tf.data.Dataset.from_tensor_slices(((X_text_test, X_summary_test, X_help_test), y_test)).batch(64)"
      ],
      "metadata": {
        "id": "EcaMqjKrYXmN"
      },
      "execution_count": null,
      "outputs": []
    },
    {
      "cell_type": "markdown",
      "source": [
        "## Build Multi-Input LSTM Model with Regularization and Custom Metrics\n",
        "Defines a deep learning model with three input branches:\n",
        "- **Text input** and **summary input** pass through embedding layers followed by LSTM layers with dropout and recurrent dropout\n",
        "- **Helpfulness ratio input** passes through a dense layer with L2 regularization and LeakyReLU activation\n",
        "\n",
        "The outputs of all branches are concatenated and passed through dense layers with LeakyReLU and Dropout for regularization. The final output layer uses a sigmoid activation for binary classification.\n",
        "\n",
        "The model is compiled using binary crossentropy loss and is evaluated with accuracy, precision, recall, and a custom F1 score metric. A model summary is printed to show the architecture.\n"
      ],
      "metadata": {
        "id": "qrT78md8eZ6W"
      }
    },
    {
      "cell_type": "code",
      "source": [
        "import tensorflow as tf\n",
        "from tensorflow.keras.models import Model\n",
        "from tensorflow.keras.layers import Input, Embedding, LSTM, Dense, Concatenate, Dropout, LeakyReLU\n",
        "from tensorflow.keras.optimizers import Adam\n",
        "from tensorflow.keras.metrics import Precision, Recall\n",
        "from tensorflow.keras.callbacks import EarlyStopping\n",
        "import matplotlib.pyplot as plt\n",
        "from tensorflow.keras import regularizers\n",
        "\n",
        "# Custom F1 score metric\n",
        "def f1_score(y_true, y_pred):\n",
        "    y_pred = tf.round(y_pred)  # Round predictions to 0 or 1\n",
        "    y_true = tf.cast(y_true, tf.float32)\n",
        "    y_pred = tf.cast(y_pred, tf.float32)\n",
        "    tp = tf.reduce_sum(y_true * y_pred, axis=0)\n",
        "    fp = tf.reduce_sum((1 - y_true) * y_pred, axis=0)\n",
        "    fn = tf.reduce_sum(y_true * (1 - y_pred), axis=0)\n",
        "    precision = tp / (tp + fp + tf.keras.backend.epsilon())\n",
        "    recall = tp / (tp + fn + tf.keras.backend.epsilon())\n",
        "    f1 = 2 * precision * recall / (precision + recall + tf.keras.backend.epsilon())\n",
        "    return f1\n",
        "\n",
        "# Define model parameters\n",
        "embedding_dim = 100  # Size of word embeddings\n",
        "lstm_units = 64      # LSTM hidden units\n",
        "max_words = 8358     # From Cell 3\n",
        "max_len_text = 90    # From Cell 3\n",
        "max_len_summary = 6  # From Cell 3\n",
        "\n",
        "# Input layers\n",
        "text_input = Input(shape=(max_len_text,), name='text_input')  # (None, 90)\n",
        "summary_input = Input(shape=(max_len_summary,), name='summary_input')  # (None, 6)\n",
        "helpfulness_input = Input(shape=(1,), name='helpfulness_input')  # (None, 1)\n",
        "\n",
        "# Text branch\n",
        "text_embedding = Embedding(input_dim=max_words, output_dim=embedding_dim, input_length=max_len_text, mask_zero=True)(text_input)\n",
        "text_lstm = LSTM(lstm_units, return_sequences=False, dropout=0.2, recurrent_dropout=0.2)(text_embedding)\n",
        "\n",
        "# Summary branch\n",
        "summary_embedding = Embedding(input_dim=max_words, output_dim=embedding_dim, input_length=max_len_summary, mask_zero=True)(summary_input)\n",
        "summary_lstm = LSTM(lstm_units, return_sequences=False, dropout=0.2, recurrent_dropout=0.2)(summary_embedding)\n",
        "\n",
        "# Helpfulness branch\n",
        "helpfulness_dense = Dense(16, kernel_regularizer=tf.keras.regularizers.l2(0.01))(helpfulness_input)\n",
        "helpfulness_leaky = LeakyReLU(alpha=0.01)(helpfulness_dense)\n",
        "\n",
        "# Concatenate all branches\n",
        "concatenated = Concatenate()([text_lstm, summary_lstm, helpfulness_leaky])\n",
        "\n",
        "# Fully connected layers\n",
        "dense = Dense(64, kernel_regularizer=tf.keras.regularizers.l2(0.01))(concatenated)\n",
        "dense_leaky = LeakyReLU(alpha=0.01)(dense)\n",
        "dropout = Dropout(0.5)(dense_leaky)  # Prevent overfitting\n",
        "output = Dense(1, activation='sigmoid')(dropout)  # Binary classification\n",
        "\n",
        "# Build model\n",
        "model = Model(inputs=[text_input, summary_input, helpfulness_input], outputs=output)\n",
        "\n",
        "# Compile model with custom metrics\n",
        "model.compile(\n",
        "    optimizer=Adam(learning_rate=0.001),\n",
        "    loss='binary_crossentropy',\n",
        "    metrics=['accuracy', Precision(name='precision'), Recall(name='recall'), f1_score]\n",
        ")\n",
        "\n",
        "# Model summary\n",
        "model.summary()"
      ],
      "metadata": {
        "id": "tosdj7RIirOG",
        "colab": {
          "base_uri": "https://localhost:8080/",
          "height": 826
        },
        "outputId": "a5e8211c-57ef-400e-8735-9312d22a5983"
      },
      "execution_count": null,
      "outputs": [
        {
          "output_type": "stream",
          "name": "stderr",
          "text": [
            "/usr/local/lib/python3.11/dist-packages/keras/src/layers/core/embedding.py:90: UserWarning: Argument `input_length` is deprecated. Just remove it.\n",
            "  warnings.warn(\n",
            "/usr/local/lib/python3.11/dist-packages/keras/src/layers/activations/leaky_relu.py:41: UserWarning: Argument `alpha` is deprecated. Use `negative_slope` instead.\n",
            "  warnings.warn(\n"
          ]
        },
        {
          "output_type": "display_data",
          "data": {
            "text/plain": [
              "\u001b[1mModel: \"functional\"\u001b[0m\n"
            ],
            "text/html": [
              "<pre style=\"white-space:pre;overflow-x:auto;line-height:normal;font-family:Menlo,'DejaVu Sans Mono',consolas,'Courier New',monospace\"><span style=\"font-weight: bold\">Model: \"functional\"</span>\n",
              "</pre>\n"
            ]
          },
          "metadata": {}
        },
        {
          "output_type": "display_data",
          "data": {
            "text/plain": [
              "┏━━━━━━━━━━━━━━━━━━━━━━━━━━━┳━━━━━━━━━━━━━━━━━━━━━━━━┳━━━━━━━━━━━━━━━━┳━━━━━━━━━━━━━━━━━━━━━━━━┓\n",
              "┃\u001b[1m \u001b[0m\u001b[1mLayer (type)             \u001b[0m\u001b[1m \u001b[0m┃\u001b[1m \u001b[0m\u001b[1mOutput Shape          \u001b[0m\u001b[1m \u001b[0m┃\u001b[1m \u001b[0m\u001b[1m       Param #\u001b[0m\u001b[1m \u001b[0m┃\u001b[1m \u001b[0m\u001b[1mConnected to          \u001b[0m\u001b[1m \u001b[0m┃\n",
              "┡━━━━━━━━━━━━━━━━━━━━━━━━━━━╇━━━━━━━━━━━━━━━━━━━━━━━━╇━━━━━━━━━━━━━━━━╇━━━━━━━━━━━━━━━━━━━━━━━━┩\n",
              "│ text_input (\u001b[38;5;33mInputLayer\u001b[0m)   │ (\u001b[38;5;45mNone\u001b[0m, \u001b[38;5;34m90\u001b[0m)             │              \u001b[38;5;34m0\u001b[0m │ -                      │\n",
              "├───────────────────────────┼────────────────────────┼────────────────┼────────────────────────┤\n",
              "│ summary_input             │ (\u001b[38;5;45mNone\u001b[0m, \u001b[38;5;34m6\u001b[0m)              │              \u001b[38;5;34m0\u001b[0m │ -                      │\n",
              "│ (\u001b[38;5;33mInputLayer\u001b[0m)              │                        │                │                        │\n",
              "├───────────────────────────┼────────────────────────┼────────────────┼────────────────────────┤\n",
              "│ helpfulness_input         │ (\u001b[38;5;45mNone\u001b[0m, \u001b[38;5;34m1\u001b[0m)              │              \u001b[38;5;34m0\u001b[0m │ -                      │\n",
              "│ (\u001b[38;5;33mInputLayer\u001b[0m)              │                        │                │                        │\n",
              "├───────────────────────────┼────────────────────────┼────────────────┼────────────────────────┤\n",
              "│ embedding (\u001b[38;5;33mEmbedding\u001b[0m)     │ (\u001b[38;5;45mNone\u001b[0m, \u001b[38;5;34m90\u001b[0m, \u001b[38;5;34m100\u001b[0m)        │        \u001b[38;5;34m835,800\u001b[0m │ text_input[\u001b[38;5;34m0\u001b[0m][\u001b[38;5;34m0\u001b[0m]       │\n",
              "├───────────────────────────┼────────────────────────┼────────────────┼────────────────────────┤\n",
              "│ not_equal (\u001b[38;5;33mNotEqual\u001b[0m)      │ (\u001b[38;5;45mNone\u001b[0m, \u001b[38;5;34m90\u001b[0m)             │              \u001b[38;5;34m0\u001b[0m │ text_input[\u001b[38;5;34m0\u001b[0m][\u001b[38;5;34m0\u001b[0m]       │\n",
              "├───────────────────────────┼────────────────────────┼────────────────┼────────────────────────┤\n",
              "│ embedding_1 (\u001b[38;5;33mEmbedding\u001b[0m)   │ (\u001b[38;5;45mNone\u001b[0m, \u001b[38;5;34m6\u001b[0m, \u001b[38;5;34m100\u001b[0m)         │        \u001b[38;5;34m835,800\u001b[0m │ summary_input[\u001b[38;5;34m0\u001b[0m][\u001b[38;5;34m0\u001b[0m]    │\n",
              "├───────────────────────────┼────────────────────────┼────────────────┼────────────────────────┤\n",
              "│ not_equal_1 (\u001b[38;5;33mNotEqual\u001b[0m)    │ (\u001b[38;5;45mNone\u001b[0m, \u001b[38;5;34m6\u001b[0m)              │              \u001b[38;5;34m0\u001b[0m │ summary_input[\u001b[38;5;34m0\u001b[0m][\u001b[38;5;34m0\u001b[0m]    │\n",
              "├───────────────────────────┼────────────────────────┼────────────────┼────────────────────────┤\n",
              "│ dense (\u001b[38;5;33mDense\u001b[0m)             │ (\u001b[38;5;45mNone\u001b[0m, \u001b[38;5;34m16\u001b[0m)             │             \u001b[38;5;34m32\u001b[0m │ helpfulness_input[\u001b[38;5;34m0\u001b[0m][\u001b[38;5;34m…\u001b[0m │\n",
              "├───────────────────────────┼────────────────────────┼────────────────┼────────────────────────┤\n",
              "│ lstm (\u001b[38;5;33mLSTM\u001b[0m)               │ (\u001b[38;5;45mNone\u001b[0m, \u001b[38;5;34m64\u001b[0m)             │         \u001b[38;5;34m42,240\u001b[0m │ embedding[\u001b[38;5;34m0\u001b[0m][\u001b[38;5;34m0\u001b[0m],       │\n",
              "│                           │                        │                │ not_equal[\u001b[38;5;34m0\u001b[0m][\u001b[38;5;34m0\u001b[0m]        │\n",
              "├───────────────────────────┼────────────────────────┼────────────────┼────────────────────────┤\n",
              "│ lstm_1 (\u001b[38;5;33mLSTM\u001b[0m)             │ (\u001b[38;5;45mNone\u001b[0m, \u001b[38;5;34m64\u001b[0m)             │         \u001b[38;5;34m42,240\u001b[0m │ embedding_1[\u001b[38;5;34m0\u001b[0m][\u001b[38;5;34m0\u001b[0m],     │\n",
              "│                           │                        │                │ not_equal_1[\u001b[38;5;34m0\u001b[0m][\u001b[38;5;34m0\u001b[0m]      │\n",
              "├───────────────────────────┼────────────────────────┼────────────────┼────────────────────────┤\n",
              "│ leaky_re_lu (\u001b[38;5;33mLeakyReLU\u001b[0m)   │ (\u001b[38;5;45mNone\u001b[0m, \u001b[38;5;34m16\u001b[0m)             │              \u001b[38;5;34m0\u001b[0m │ dense[\u001b[38;5;34m0\u001b[0m][\u001b[38;5;34m0\u001b[0m]            │\n",
              "├───────────────────────────┼────────────────────────┼────────────────┼────────────────────────┤\n",
              "│ concatenate (\u001b[38;5;33mConcatenate\u001b[0m) │ (\u001b[38;5;45mNone\u001b[0m, \u001b[38;5;34m144\u001b[0m)            │              \u001b[38;5;34m0\u001b[0m │ lstm[\u001b[38;5;34m0\u001b[0m][\u001b[38;5;34m0\u001b[0m],            │\n",
              "│                           │                        │                │ lstm_1[\u001b[38;5;34m0\u001b[0m][\u001b[38;5;34m0\u001b[0m],          │\n",
              "│                           │                        │                │ leaky_re_lu[\u001b[38;5;34m0\u001b[0m][\u001b[38;5;34m0\u001b[0m]      │\n",
              "├───────────────────────────┼────────────────────────┼────────────────┼────────────────────────┤\n",
              "│ dense_1 (\u001b[38;5;33mDense\u001b[0m)           │ (\u001b[38;5;45mNone\u001b[0m, \u001b[38;5;34m64\u001b[0m)             │          \u001b[38;5;34m9,280\u001b[0m │ concatenate[\u001b[38;5;34m0\u001b[0m][\u001b[38;5;34m0\u001b[0m]      │\n",
              "├───────────────────────────┼────────────────────────┼────────────────┼────────────────────────┤\n",
              "│ leaky_re_lu_1 (\u001b[38;5;33mLeakyReLU\u001b[0m) │ (\u001b[38;5;45mNone\u001b[0m, \u001b[38;5;34m64\u001b[0m)             │              \u001b[38;5;34m0\u001b[0m │ dense_1[\u001b[38;5;34m0\u001b[0m][\u001b[38;5;34m0\u001b[0m]          │\n",
              "├───────────────────────────┼────────────────────────┼────────────────┼────────────────────────┤\n",
              "│ dropout (\u001b[38;5;33mDropout\u001b[0m)         │ (\u001b[38;5;45mNone\u001b[0m, \u001b[38;5;34m64\u001b[0m)             │              \u001b[38;5;34m0\u001b[0m │ leaky_re_lu_1[\u001b[38;5;34m0\u001b[0m][\u001b[38;5;34m0\u001b[0m]    │\n",
              "├───────────────────────────┼────────────────────────┼────────────────┼────────────────────────┤\n",
              "│ dense_2 (\u001b[38;5;33mDense\u001b[0m)           │ (\u001b[38;5;45mNone\u001b[0m, \u001b[38;5;34m1\u001b[0m)              │             \u001b[38;5;34m65\u001b[0m │ dropout[\u001b[38;5;34m0\u001b[0m][\u001b[38;5;34m0\u001b[0m]          │\n",
              "└───────────────────────────┴────────────────────────┴────────────────┴────────────────────────┘\n"
            ],
            "text/html": [
              "<pre style=\"white-space:pre;overflow-x:auto;line-height:normal;font-family:Menlo,'DejaVu Sans Mono',consolas,'Courier New',monospace\">┏━━━━━━━━━━━━━━━━━━━━━━━━━━━┳━━━━━━━━━━━━━━━━━━━━━━━━┳━━━━━━━━━━━━━━━━┳━━━━━━━━━━━━━━━━━━━━━━━━┓\n",
              "┃<span style=\"font-weight: bold\"> Layer (type)              </span>┃<span style=\"font-weight: bold\"> Output Shape           </span>┃<span style=\"font-weight: bold\">        Param # </span>┃<span style=\"font-weight: bold\"> Connected to           </span>┃\n",
              "┡━━━━━━━━━━━━━━━━━━━━━━━━━━━╇━━━━━━━━━━━━━━━━━━━━━━━━╇━━━━━━━━━━━━━━━━╇━━━━━━━━━━━━━━━━━━━━━━━━┩\n",
              "│ text_input (<span style=\"color: #0087ff; text-decoration-color: #0087ff\">InputLayer</span>)   │ (<span style=\"color: #00d7ff; text-decoration-color: #00d7ff\">None</span>, <span style=\"color: #00af00; text-decoration-color: #00af00\">90</span>)             │              <span style=\"color: #00af00; text-decoration-color: #00af00\">0</span> │ -                      │\n",
              "├───────────────────────────┼────────────────────────┼────────────────┼────────────────────────┤\n",
              "│ summary_input             │ (<span style=\"color: #00d7ff; text-decoration-color: #00d7ff\">None</span>, <span style=\"color: #00af00; text-decoration-color: #00af00\">6</span>)              │              <span style=\"color: #00af00; text-decoration-color: #00af00\">0</span> │ -                      │\n",
              "│ (<span style=\"color: #0087ff; text-decoration-color: #0087ff\">InputLayer</span>)              │                        │                │                        │\n",
              "├───────────────────────────┼────────────────────────┼────────────────┼────────────────────────┤\n",
              "│ helpfulness_input         │ (<span style=\"color: #00d7ff; text-decoration-color: #00d7ff\">None</span>, <span style=\"color: #00af00; text-decoration-color: #00af00\">1</span>)              │              <span style=\"color: #00af00; text-decoration-color: #00af00\">0</span> │ -                      │\n",
              "│ (<span style=\"color: #0087ff; text-decoration-color: #0087ff\">InputLayer</span>)              │                        │                │                        │\n",
              "├───────────────────────────┼────────────────────────┼────────────────┼────────────────────────┤\n",
              "│ embedding (<span style=\"color: #0087ff; text-decoration-color: #0087ff\">Embedding</span>)     │ (<span style=\"color: #00d7ff; text-decoration-color: #00d7ff\">None</span>, <span style=\"color: #00af00; text-decoration-color: #00af00\">90</span>, <span style=\"color: #00af00; text-decoration-color: #00af00\">100</span>)        │        <span style=\"color: #00af00; text-decoration-color: #00af00\">835,800</span> │ text_input[<span style=\"color: #00af00; text-decoration-color: #00af00\">0</span>][<span style=\"color: #00af00; text-decoration-color: #00af00\">0</span>]       │\n",
              "├───────────────────────────┼────────────────────────┼────────────────┼────────────────────────┤\n",
              "│ not_equal (<span style=\"color: #0087ff; text-decoration-color: #0087ff\">NotEqual</span>)      │ (<span style=\"color: #00d7ff; text-decoration-color: #00d7ff\">None</span>, <span style=\"color: #00af00; text-decoration-color: #00af00\">90</span>)             │              <span style=\"color: #00af00; text-decoration-color: #00af00\">0</span> │ text_input[<span style=\"color: #00af00; text-decoration-color: #00af00\">0</span>][<span style=\"color: #00af00; text-decoration-color: #00af00\">0</span>]       │\n",
              "├───────────────────────────┼────────────────────────┼────────────────┼────────────────────────┤\n",
              "│ embedding_1 (<span style=\"color: #0087ff; text-decoration-color: #0087ff\">Embedding</span>)   │ (<span style=\"color: #00d7ff; text-decoration-color: #00d7ff\">None</span>, <span style=\"color: #00af00; text-decoration-color: #00af00\">6</span>, <span style=\"color: #00af00; text-decoration-color: #00af00\">100</span>)         │        <span style=\"color: #00af00; text-decoration-color: #00af00\">835,800</span> │ summary_input[<span style=\"color: #00af00; text-decoration-color: #00af00\">0</span>][<span style=\"color: #00af00; text-decoration-color: #00af00\">0</span>]    │\n",
              "├───────────────────────────┼────────────────────────┼────────────────┼────────────────────────┤\n",
              "│ not_equal_1 (<span style=\"color: #0087ff; text-decoration-color: #0087ff\">NotEqual</span>)    │ (<span style=\"color: #00d7ff; text-decoration-color: #00d7ff\">None</span>, <span style=\"color: #00af00; text-decoration-color: #00af00\">6</span>)              │              <span style=\"color: #00af00; text-decoration-color: #00af00\">0</span> │ summary_input[<span style=\"color: #00af00; text-decoration-color: #00af00\">0</span>][<span style=\"color: #00af00; text-decoration-color: #00af00\">0</span>]    │\n",
              "├───────────────────────────┼────────────────────────┼────────────────┼────────────────────────┤\n",
              "│ dense (<span style=\"color: #0087ff; text-decoration-color: #0087ff\">Dense</span>)             │ (<span style=\"color: #00d7ff; text-decoration-color: #00d7ff\">None</span>, <span style=\"color: #00af00; text-decoration-color: #00af00\">16</span>)             │             <span style=\"color: #00af00; text-decoration-color: #00af00\">32</span> │ helpfulness_input[<span style=\"color: #00af00; text-decoration-color: #00af00\">0</span>][<span style=\"color: #00af00; text-decoration-color: #00af00\">…</span> │\n",
              "├───────────────────────────┼────────────────────────┼────────────────┼────────────────────────┤\n",
              "│ lstm (<span style=\"color: #0087ff; text-decoration-color: #0087ff\">LSTM</span>)               │ (<span style=\"color: #00d7ff; text-decoration-color: #00d7ff\">None</span>, <span style=\"color: #00af00; text-decoration-color: #00af00\">64</span>)             │         <span style=\"color: #00af00; text-decoration-color: #00af00\">42,240</span> │ embedding[<span style=\"color: #00af00; text-decoration-color: #00af00\">0</span>][<span style=\"color: #00af00; text-decoration-color: #00af00\">0</span>],       │\n",
              "│                           │                        │                │ not_equal[<span style=\"color: #00af00; text-decoration-color: #00af00\">0</span>][<span style=\"color: #00af00; text-decoration-color: #00af00\">0</span>]        │\n",
              "├───────────────────────────┼────────────────────────┼────────────────┼────────────────────────┤\n",
              "│ lstm_1 (<span style=\"color: #0087ff; text-decoration-color: #0087ff\">LSTM</span>)             │ (<span style=\"color: #00d7ff; text-decoration-color: #00d7ff\">None</span>, <span style=\"color: #00af00; text-decoration-color: #00af00\">64</span>)             │         <span style=\"color: #00af00; text-decoration-color: #00af00\">42,240</span> │ embedding_1[<span style=\"color: #00af00; text-decoration-color: #00af00\">0</span>][<span style=\"color: #00af00; text-decoration-color: #00af00\">0</span>],     │\n",
              "│                           │                        │                │ not_equal_1[<span style=\"color: #00af00; text-decoration-color: #00af00\">0</span>][<span style=\"color: #00af00; text-decoration-color: #00af00\">0</span>]      │\n",
              "├───────────────────────────┼────────────────────────┼────────────────┼────────────────────────┤\n",
              "│ leaky_re_lu (<span style=\"color: #0087ff; text-decoration-color: #0087ff\">LeakyReLU</span>)   │ (<span style=\"color: #00d7ff; text-decoration-color: #00d7ff\">None</span>, <span style=\"color: #00af00; text-decoration-color: #00af00\">16</span>)             │              <span style=\"color: #00af00; text-decoration-color: #00af00\">0</span> │ dense[<span style=\"color: #00af00; text-decoration-color: #00af00\">0</span>][<span style=\"color: #00af00; text-decoration-color: #00af00\">0</span>]            │\n",
              "├───────────────────────────┼────────────────────────┼────────────────┼────────────────────────┤\n",
              "│ concatenate (<span style=\"color: #0087ff; text-decoration-color: #0087ff\">Concatenate</span>) │ (<span style=\"color: #00d7ff; text-decoration-color: #00d7ff\">None</span>, <span style=\"color: #00af00; text-decoration-color: #00af00\">144</span>)            │              <span style=\"color: #00af00; text-decoration-color: #00af00\">0</span> │ lstm[<span style=\"color: #00af00; text-decoration-color: #00af00\">0</span>][<span style=\"color: #00af00; text-decoration-color: #00af00\">0</span>],            │\n",
              "│                           │                        │                │ lstm_1[<span style=\"color: #00af00; text-decoration-color: #00af00\">0</span>][<span style=\"color: #00af00; text-decoration-color: #00af00\">0</span>],          │\n",
              "│                           │                        │                │ leaky_re_lu[<span style=\"color: #00af00; text-decoration-color: #00af00\">0</span>][<span style=\"color: #00af00; text-decoration-color: #00af00\">0</span>]      │\n",
              "├───────────────────────────┼────────────────────────┼────────────────┼────────────────────────┤\n",
              "│ dense_1 (<span style=\"color: #0087ff; text-decoration-color: #0087ff\">Dense</span>)           │ (<span style=\"color: #00d7ff; text-decoration-color: #00d7ff\">None</span>, <span style=\"color: #00af00; text-decoration-color: #00af00\">64</span>)             │          <span style=\"color: #00af00; text-decoration-color: #00af00\">9,280</span> │ concatenate[<span style=\"color: #00af00; text-decoration-color: #00af00\">0</span>][<span style=\"color: #00af00; text-decoration-color: #00af00\">0</span>]      │\n",
              "├───────────────────────────┼────────────────────────┼────────────────┼────────────────────────┤\n",
              "│ leaky_re_lu_1 (<span style=\"color: #0087ff; text-decoration-color: #0087ff\">LeakyReLU</span>) │ (<span style=\"color: #00d7ff; text-decoration-color: #00d7ff\">None</span>, <span style=\"color: #00af00; text-decoration-color: #00af00\">64</span>)             │              <span style=\"color: #00af00; text-decoration-color: #00af00\">0</span> │ dense_1[<span style=\"color: #00af00; text-decoration-color: #00af00\">0</span>][<span style=\"color: #00af00; text-decoration-color: #00af00\">0</span>]          │\n",
              "├───────────────────────────┼────────────────────────┼────────────────┼────────────────────────┤\n",
              "│ dropout (<span style=\"color: #0087ff; text-decoration-color: #0087ff\">Dropout</span>)         │ (<span style=\"color: #00d7ff; text-decoration-color: #00d7ff\">None</span>, <span style=\"color: #00af00; text-decoration-color: #00af00\">64</span>)             │              <span style=\"color: #00af00; text-decoration-color: #00af00\">0</span> │ leaky_re_lu_1[<span style=\"color: #00af00; text-decoration-color: #00af00\">0</span>][<span style=\"color: #00af00; text-decoration-color: #00af00\">0</span>]    │\n",
              "├───────────────────────────┼────────────────────────┼────────────────┼────────────────────────┤\n",
              "│ dense_2 (<span style=\"color: #0087ff; text-decoration-color: #0087ff\">Dense</span>)           │ (<span style=\"color: #00d7ff; text-decoration-color: #00d7ff\">None</span>, <span style=\"color: #00af00; text-decoration-color: #00af00\">1</span>)              │             <span style=\"color: #00af00; text-decoration-color: #00af00\">65</span> │ dropout[<span style=\"color: #00af00; text-decoration-color: #00af00\">0</span>][<span style=\"color: #00af00; text-decoration-color: #00af00\">0</span>]          │\n",
              "└───────────────────────────┴────────────────────────┴────────────────┴────────────────────────┘\n",
              "</pre>\n"
            ]
          },
          "metadata": {}
        },
        {
          "output_type": "display_data",
          "data": {
            "text/plain": [
              "\u001b[1m Total params: \u001b[0m\u001b[38;5;34m1,765,457\u001b[0m (6.73 MB)\n"
            ],
            "text/html": [
              "<pre style=\"white-space:pre;overflow-x:auto;line-height:normal;font-family:Menlo,'DejaVu Sans Mono',consolas,'Courier New',monospace\"><span style=\"font-weight: bold\"> Total params: </span><span style=\"color: #00af00; text-decoration-color: #00af00\">1,765,457</span> (6.73 MB)\n",
              "</pre>\n"
            ]
          },
          "metadata": {}
        },
        {
          "output_type": "display_data",
          "data": {
            "text/plain": [
              "\u001b[1m Trainable params: \u001b[0m\u001b[38;5;34m1,765,457\u001b[0m (6.73 MB)\n"
            ],
            "text/html": [
              "<pre style=\"white-space:pre;overflow-x:auto;line-height:normal;font-family:Menlo,'DejaVu Sans Mono',consolas,'Courier New',monospace\"><span style=\"font-weight: bold\"> Trainable params: </span><span style=\"color: #00af00; text-decoration-color: #00af00\">1,765,457</span> (6.73 MB)\n",
              "</pre>\n"
            ]
          },
          "metadata": {}
        },
        {
          "output_type": "display_data",
          "data": {
            "text/plain": [
              "\u001b[1m Non-trainable params: \u001b[0m\u001b[38;5;34m0\u001b[0m (0.00 B)\n"
            ],
            "text/html": [
              "<pre style=\"white-space:pre;overflow-x:auto;line-height:normal;font-family:Menlo,'DejaVu Sans Mono',consolas,'Courier New',monospace\"><span style=\"font-weight: bold\"> Non-trainable params: </span><span style=\"color: #00af00; text-decoration-color: #00af00\">0</span> (0.00 B)\n",
              "</pre>\n"
            ]
          },
          "metadata": {}
        }
      ]
    },
    {
      "cell_type": "markdown",
      "source": [
        "## Train Model with Early Stopping\n",
        "Trains the model using the augmented training dataset and validates on the test set. Early stopping is used to monitor validation loss, with a patience of 5 epochs. If the validation loss does not improve for 5 consecutive epochs, training stops and the best weights are restored to prevent overfitting.\n"
      ],
      "metadata": {
        "id": "Mvf0uttee2AM"
      }
    },
    {
      "cell_type": "code",
      "source": [
        "# Early stopping callback\n",
        "early_stopping = EarlyStopping(monitor='val_loss', patience=5, restore_best_weights=True)\n",
        "\n",
        "# Train model\n",
        "history = model.fit(\n",
        "    train_dataset,\n",
        "    validation_data=val_dataset,\n",
        "    epochs=10,\n",
        "    callbacks=[early_stopping],\n",
        "    verbose=1\n",
        ")"
      ],
      "metadata": {
        "id": "J0D8Rpaais5k",
        "colab": {
          "base_uri": "https://localhost:8080/"
        },
        "outputId": "7da09a32-ebeb-4145-aac2-ce38ebb0623b"
      },
      "execution_count": null,
      "outputs": [
        {
          "output_type": "stream",
          "name": "stdout",
          "text": [
            "Epoch 1/10\n",
            "\u001b[1m2188/2188\u001b[0m \u001b[32m━━━━━━━━━━━━━━━━━━━━\u001b[0m\u001b[37m\u001b[0m \u001b[1m484s\u001b[0m 215ms/step - accuracy: 0.8820 - f1_score: 0.3468 - loss: 0.4341 - precision: 0.8656 - recall: 0.9114 - val_accuracy: 0.9309 - val_f1_score: 0.3375 - val_loss: 0.2115 - val_precision: 0.9251 - val_recall: 0.9376\n",
            "Epoch 2/10\n",
            "\u001b[1m2188/2188\u001b[0m \u001b[32m━━━━━━━━━━━━━━━━━━━━\u001b[0m\u001b[37m\u001b[0m \u001b[1m476s\u001b[0m 217ms/step - accuracy: 0.9289 - f1_score: 0.3361 - loss: 0.2132 - precision: 0.9253 - recall: 0.9330 - val_accuracy: 0.9327 - val_f1_score: 0.3354 - val_loss: 0.1977 - val_precision: 0.9308 - val_recall: 0.9347\n",
            "Epoch 3/10\n",
            "\u001b[1m2188/2188\u001b[0m \u001b[32m━━━━━━━━━━━━━━━━━━━━\u001b[0m\u001b[37m\u001b[0m \u001b[1m500s\u001b[0m 216ms/step - accuracy: 0.9387 - f1_score: 0.3373 - loss: 0.1871 - precision: 0.9369 - recall: 0.9411 - val_accuracy: 0.9261 - val_f1_score: 0.3291 - val_loss: 0.2134 - val_precision: 0.9365 - val_recall: 0.9140\n",
            "Epoch 4/10\n",
            "\u001b[1m2188/2188\u001b[0m \u001b[32m━━━━━━━━━━━━━━━━━━━━\u001b[0m\u001b[37m\u001b[0m \u001b[1m476s\u001b[0m 217ms/step - accuracy: 0.9456 - f1_score: 0.3370 - loss: 0.1682 - precision: 0.9431 - recall: 0.9484 - val_accuracy: 0.9296 - val_f1_score: 0.3374 - val_loss: 0.2037 - val_precision: 0.9237 - val_recall: 0.9363\n",
            "Epoch 5/10\n",
            "\u001b[1m2188/2188\u001b[0m \u001b[32m━━━━━━━━━━━━━━━━━━━━\u001b[0m\u001b[37m\u001b[0m \u001b[1m497s\u001b[0m 215ms/step - accuracy: 0.9531 - f1_score: 0.3370 - loss: 0.1505 - precision: 0.9509 - recall: 0.9556 - val_accuracy: 0.9268 - val_f1_score: 0.3404 - val_loss: 0.2204 - val_precision: 0.9154 - val_recall: 0.9404\n",
            "Epoch 6/10\n",
            "\u001b[1m2188/2188\u001b[0m \u001b[32m━━━━━━━━━━━━━━━━━━━━\u001b[0m\u001b[37m\u001b[0m \u001b[1m474s\u001b[0m 216ms/step - accuracy: 0.9562 - f1_score: 0.3366 - loss: 0.1398 - precision: 0.9537 - recall: 0.9591 - val_accuracy: 0.9260 - val_f1_score: 0.3403 - val_loss: 0.2181 - val_precision: 0.9147 - val_recall: 0.9394\n",
            "Epoch 7/10\n",
            "\u001b[1m2188/2188\u001b[0m \u001b[32m━━━━━━━━━━━━━━━━━━━━\u001b[0m\u001b[37m\u001b[0m \u001b[1m501s\u001b[0m 216ms/step - accuracy: 0.9613 - f1_score: 0.3369 - loss: 0.1270 - precision: 0.9588 - recall: 0.9641 - val_accuracy: 0.9222 - val_f1_score: 0.3432 - val_loss: 0.2539 - val_precision: 0.9056 - val_recall: 0.9423\n"
          ]
        }
      ]
    },
    {
      "cell_type": "markdown",
      "source": [
        "## Plot training history  \n",
        "The training history is visualized by plotting various metrics over epochs. Two sets of plots are created:\n",
        "\n",
        "1. **Model Accuracy and Loss**:  \n",
        "   The first set of plots shows the training and validation accuracy and loss across epochs to observe how well the model is learning and generalizing.\n",
        "\n",
        "2. **Model Precision, Recall, and F1 Score**:  \n",
        "   The second set of plots shows the training and validation precision, recall, and F1 score over epochs. These metrics provide insights into the model's ability to correctly identify positive samples and its balance between precision and recall.\n",
        "\n",
        "Each plot includes labels for the x-axis (Epoch) and y-axis (Accuracy/Loss/Precision/Recall/F1 Score), with legends to differentiate between training and validation metrics.\n"
      ],
      "metadata": {
        "id": "BpeYUGaae8n-"
      }
    },
    {
      "cell_type": "code",
      "source": [
        "# Plot training history\n",
        "plt.figure(figsize=(12, 4))\n",
        "\n",
        "plt.subplot(1, 2, 1)\n",
        "plt.plot(history.history['accuracy'], label='Train Accuracy')\n",
        "plt.plot(history.history['val_accuracy'], label='Val Accuracy')\n",
        "plt.title('Model Accuracy')\n",
        "plt.xlabel('Epoch')\n",
        "plt.ylabel('Accuracy')\n",
        "plt.legend()\n",
        "\n",
        "plt.subplot(1, 2, 2)\n",
        "plt.plot(history.history['loss'], label='Train Loss')\n",
        "plt.plot(history.history['val_loss'], label='Val Loss')\n",
        "plt.title('Model Loss')\n",
        "plt.xlabel('Epoch')\n",
        "plt.ylabel('Loss')\n",
        "plt.legend()\n",
        "\n",
        "plt.tight_layout()\n",
        "plt.show()\n",
        "\n",
        "# Additional metrics plots\n",
        "plt.figure(figsize=(12, 4))\n",
        "\n",
        "plt.subplot(1, 3, 1)\n",
        "plt.plot(history.history['precision'], label='Train Precision')\n",
        "plt.plot(history.history['val_precision'], label='Val Precision')\n",
        "plt.title('Model Precision')\n",
        "plt.xlabel('Epoch')\n",
        "plt.ylabel('Precision')\n",
        "plt.legend()\n",
        "\n",
        "plt.subplot(1, 3, 2)\n",
        "plt.plot(history.history['recall'], label='Train Recall')\n",
        "plt.plot(history.history['val_recall'], label='Val Recall')\n",
        "plt.title('Model Recall')\n",
        "plt.xlabel('Epoch')\n",
        "plt.ylabel('Recall')\n",
        "plt.legend()\n",
        "\n",
        "plt.subplot(1, 3, 3)\n",
        "plt.plot(history.history['f1_score'], label='Train F1 Score')\n",
        "plt.plot(history.history['val_f1_score'], label='Val F1 Score')\n",
        "plt.title('Model F1 Score')\n",
        "plt.xlabel('Epoch')\n",
        "plt.ylabel('F1 Score')\n",
        "plt.legend()\n",
        "\n",
        "plt.tight_layout()\n",
        "plt.show()"
      ],
      "metadata": {
        "id": "WyMl83-VkYly",
        "colab": {
          "base_uri": "https://localhost:8080/",
          "height": 797
        },
        "outputId": "e9b606e3-37b3-4ef6-baba-2bb8729ad62f"
      },
      "execution_count": null,
      "outputs": [
        {
          "output_type": "display_data",
          "data": {
            "text/plain": [
              "<Figure size 1200x400 with 2 Axes>"
            ],
            "image/png": "[encoded data removed]"
          },
          "metadata": {}
        },
        {
          "output_type": "display_data",
          "data": {
            "text/plain": [
              "<Figure size 1200x400 with 3 Axes>"
            ],
            "image/png": "[encoded data removed]"
          },
          "metadata": {}
        }
      ]
    },
    {
      "cell_type": "markdown",
      "source": [
        "## Compute and display evaluation metrics  \n",
        "This code computes key evaluation metrics for the model on the test set:\n",
        "\n",
        "1. **Predictions**  \n",
        "   The model's predictions are generated, and probabilities are converted into binary values (0 or 1) using a threshold of 0.5.\n",
        "\n",
        "2. **Metrics**\n",
        "   Several metrics are calculated using sklearn:\n",
        "   - **Precision**: The proportion of true positive predictions to all predicted positives.\n",
        "   - **Recall**: The proportion of true positive predictions to all actual positives.\n",
        "   - **F1 Score**: The harmonic mean of precision and recall, providing a balanced measure.\n",
        "   - **Confusion Matrix**: A matrix showing the true positives, false positives, false negatives, and true negatives.\n",
        "\n",
        "3. **Results**\n",
        "   The training accuracy, validation accuracy, precision, recall, F1 score, and confusion matrix are printed. The difference between training and validation accuracy is also displayed to assess potential overfitting.\n",
        "\n",
        "4. **Confusion Matrix Visualization**\n",
        "   A heatmap of the confusion matrix is plotted using seaborn to visually represent the performance of the model in distinguishing between negative and positive reviews.\n",
        "\n",
        "The results give a comprehensive overview of the model’s performance on the test data.\n"
      ],
      "metadata": {
        "id": "T1Qw-g1IfFMz"
      }
    },
    {
      "cell_type": "code",
      "source": [
        "import numpy as np\n",
        "from sklearn.metrics import precision_score, recall_score, f1_score, confusion_matrix\n",
        "\n",
        "# Get predictions for confusion matrix and additional metrics\n",
        "y_pred = model.predict([X_text_test, X_summary_test, X_help_test])\n",
        "y_pred_binary = (y_pred > 0.5).astype(int)  # Convert probabilities to 0/1\n",
        "\n",
        "# Compute metrics using sklearn (for consistency with confusion matrix)\n",
        "train_acc = history.history['accuracy'][-1]  # Last epoch training accuracy\n",
        "val_acc = history.history['val_accuracy'][-1]  # Last epoch validation accuracy\n",
        "prec = precision_score(y_test, y_pred_binary)\n",
        "rec = recall_score(y_test, y_pred_binary)\n",
        "f1 = f1_score(y_test, y_pred_binary)\n",
        "conf_m = confusion_matrix(y_test, y_pred_binary)\n",
        "\n",
        "# Print results\n",
        "print(f\"Training Accuracy: {train_acc:.4f}\")\n",
        "print(f\"Validation Accuracy: {val_acc:.4f}\")\n",
        "print(f\"Accuracy Difference: {(train_acc - val_acc):.4f}\")\n",
        "print(f\"Precision: {prec:.4f}\")\n",
        "print(f\"Recall: {rec:.4f}\")\n",
        "print(f\"F1 Score: {f1:.4f}\")\n",
        "print(\"Confusion Matrix:\\n\", conf_m)\n",
        "\n",
        "import matplotlib.pyplot as plt\n",
        "import seaborn as sns\n",
        "\n",
        "plt.figure(figsize=(6, 4))\n",
        "sns.heatmap(conf_m, annot=True, fmt='d', cmap='Blues',\n",
        "            xticklabels=['Negative', 'Positive'],\n",
        "            yticklabels=['Negative', 'Positive'])\n",
        "plt.title('Confusion Matrix')\n",
        "plt.xlabel('Predicted')\n",
        "plt.ylabel('True')\n",
        "plt.show()"
      ],
      "metadata": {
        "id": "2yUWRw82RpEw",
        "colab": {
          "base_uri": "https://localhost:8080/",
          "height": 593
        },
        "outputId": "e6c1ba99-016e-45d9-8b88-3170cf302f23"
      },
      "execution_count": null,
      "outputs": [
        {
          "output_type": "stream",
          "name": "stdout",
          "text": [
            "\u001b[1m1094/1094\u001b[0m \u001b[32m━━━━━━━━━━━━━━━━━━━━\u001b[0m\u001b[37m\u001b[0m \u001b[1m34s\u001b[0m 30ms/step\n",
            "Training Accuracy: 0.9619\n",
            "Validation Accuracy: 0.9222\n",
            "Accuracy Difference: 0.0397\n",
            "Precision: 0.9308\n",
            "Recall: 0.9347\n",
            "F1 Score: 0.9328\n",
            "Confusion Matrix:\n",
            " [[16313  1214]\n",
            " [ 1141 16338]]\n"
          ]
        },
        {
          "output_type": "display_data",
          "data": {
            "text/plain": [
              "<Figure size 600x400 with 2 Axes>"
            ],
            "image/png": "[encoded data removed]"
          },
          "metadata": {}
        }
      ]
    },
    {
      "cell_type": "markdown",
      "source": [
        "## Store model evaluation results  \n",
        "The model's evaluation metrics, including training accuracy, validation accuracy, the difference between training and validation accuracy, precision, recall, F1 score, and the confusion matrix, are stored in the model_scores dictionary under the key 'NLP'. This allows for easy access and future reference to these metrics after the model evaluation.\n"
      ],
      "metadata": {
        "id": "mJwHR-1-fPA5"
      }
    },
    {
      "cell_type": "code",
      "source": [
        "model_scores = {'NLP': {\n",
        "    'training_accuracy': train_acc,\n",
        "    'validation_accuracy': val_acc,\n",
        "    'train_val_acc_diff': train_acc - val_acc ,\n",
        "    'precision': prec,\n",
        "    'recall': rec,\n",
        "    'f1_score': f1,\n",
        "    'confusion_matrix': conf_m\n",
        "}}"
      ],
      "metadata": {
        "id": "UwGg2qCVTc1F"
      },
      "execution_count": null,
      "outputs": []
    },
    {
      "cell_type": "markdown",
      "source": [
        "## Display model performance scores  \n",
        "The model_scores dictionary, which contains the evaluation metrics for the model, is converted into a pandas DataFrame for better readability. The DataFrame is displayed to show the detailed evaluation results, including training accuracy, validation accuracy, precision, recall, F1 score, and the confusion matrix.\n"
      ],
      "metadata": {
        "id": "7z2tStObff_Q"
      }
    },
    {
      "cell_type": "code",
      "source": [
        "import pandas as pd\n",
        "df_scores = pd.DataFrame.from_dict(model_scores, orient='index')\n",
        "df_scores"
      ],
      "metadata": {
        "id": "szdELWywTwAj",
        "colab": {
          "base_uri": "https://localhost:8080/",
          "height": 89
        },
        "outputId": "f6473339-4414-41d4-8e9d-b5dc3062ebce"
      },
      "execution_count": null,
      "outputs": [
        {
          "output_type": "execute_result",
          "data": {
            "text/plain": [
              "     training_accuracy  validation_accuracy  train_val_acc_diff  precision  \\\n",
              "NLP           0.961891             0.922156            0.039735   0.930834   \n",
              "\n",
              "       recall  f1_score                confusion_matrix  \n",
              "NLP  0.934722  0.932774  [[16313, 1214], [1141, 16338]]  "
            ],
            "text/html": [
              "\n",
              "  <div id=\"df-4d3263ad-9109-473e-b01d-83f834ef230b\" class=\"colab-df-container\">\n",
              "    <div>\n",
              "<style scoped>\n",
              "    .dataframe tbody tr th:only-of-type {\n",
              "        vertical-align: middle;\n",
              "    }\n",
              "\n",
              "    .dataframe tbody tr th {\n",
              "        vertical-align: top;\n",
              "    }\n",
              "\n",
              "    .dataframe thead th {\n",
              "        text-align: right;\n",
              "    }\n",
              "</style>\n",
              "<table border=\"1\" class=\"dataframe\">\n",
              "  <thead>\n",
              "    <tr style=\"text-align: right;\">\n",
              "      <th></th>\n",
              "      <th>training_accuracy</th>\n",
              "      <th>validation_accuracy</th>\n",
              "      <th>train_val_acc_diff</th>\n",
              "      <th>precision</th>\n",
              "      <th>recall</th>\n",
              "      <th>f1_score</th>\n",
              "      <th>confusion_matrix</th>\n",
              "    </tr>\n",
              "  </thead>\n",
              "  <tbody>\n",
              "    <tr>\n",
              "      <th>NLP</th>\n",
              "      <td>0.961891</td>\n",
              "      <td>0.922156</td>\n",
              "      <td>0.039735</td>\n",
              "      <td>0.930834</td>\n",
              "      <td>0.934722</td>\n",
              "      <td>0.932774</td>\n",
              "      <td>[[16313, 1214], [1141, 16338]]</td>\n",
              "    </tr>\n",
              "  </tbody>\n",
              "</table>\n",
              "</div>\n",
              "    <div class=\"colab-df-buttons\">\n",
              "\n",
              "  <div class=\"colab-df-container\">\n",
              "    <button class=\"colab-df-convert\" onclick=\"convertToInteractive('df-4d3263ad-9109-473e-b01d-83f834ef230b')\"\n",
              "            title=\"Convert this dataframe to an interactive table.\"\n",
              "            style=\"display:none;\">\n",
              "\n",
              "  <svg xmlns=\"http://www.w3.org/2000/svg\" height=\"24px\" viewBox=\"0 -960 960 960\">\n",
              "    <path d=\"M120-120v-720h720v720H120Zm60-500h600v-160H180v160Zm220 220h160v-160H400v160Zm0 220h160v-160H400v160ZM180-400h160v-160H180v160Zm440 0h160v-160H620v160ZM180-180h160v-160H180v160Zm440 0h160v-160H620v160Z\"/>\n",
              "  </svg>\n",
              "    </button>\n",
              "\n",
              "  <style>\n",
              "    .colab-df-container {\n",
              "      display:flex;\n",
              "      gap: 12px;\n",
              "    }\n",
              "\n",
              "    .colab-df-convert {\n",
              "      background-color: #E8F0FE;\n",
              "      border: none;\n",
              "      border-radius: 50%;\n",
              "      cursor: pointer;\n",
              "      display: none;\n",
              "      fill: #1967D2;\n",
              "      height: 32px;\n",
              "      padding: 0 0 0 0;\n",
              "      width: 32px;\n",
              "    }\n",
              "\n",
              "    .colab-df-convert:hover {\n",
              "      background-color: #E2EBFA;\n",
              "      box-shadow: 0px 1px 2px rgba(60, 64, 67, 0.3), 0px 1px 3px 1px rgba(60, 64, 67, 0.15);\n",
              "      fill: #174EA6;\n",
              "    }\n",
              "\n",
              "    .colab-df-buttons div {\n",
              "      margin-bottom: 4px;\n",
              "    }\n",
              "\n",
              "    [theme=dark] .colab-df-convert {\n",
              "      background-color: #3B4455;\n",
              "      fill: #D2E3FC;\n",
              "    }\n",
              "\n",
              "    [theme=dark] .colab-df-convert:hover {\n",
              "      background-color: #434B5C;\n",
              "      box-shadow: 0px 1px 3px 1px rgba(0, 0, 0, 0.15);\n",
              "      filter: drop-shadow(0px 1px 2px rgba(0, 0, 0, 0.3));\n",
              "      fill: #FFFFFF;\n",
              "    }\n",
              "  </style>\n",
              "\n",
              "    <script>\n",
              "      const buttonEl =\n",
              "        document.querySelector('#df-4d3263ad-9109-473e-b01d-83f834ef230b button.colab-df-convert');\n",
              "      buttonEl.style.display =\n",
              "        google.colab.kernel.accessAllowed ? 'block' : 'none';\n",
              "\n",
              "      async function convertToInteractive(key) {\n",
              "        const element = document.querySelector('#df-4d3263ad-9109-473e-b01d-83f834ef230b');\n",
              "        const dataTable =\n",
              "          await google.colab.kernel.invokeFunction('convertToInteractive',\n",
              "                                                    [key], {});\n",
              "        if (!dataTable) return;\n",
              "\n",
              "        const docLinkHtml = 'Like what you see? Visit the ' +\n",
              "          '<a target=\"_blank\" href=https://colab.research.google.com/notebooks/data_table.ipynb>data table notebook</a>'\n",
              "          + ' to learn more about interactive tables.';\n",
              "        element.innerHTML = '';\n",
              "        dataTable['output_type'] = 'display_data';\n",
              "        await google.colab.output.renderOutput(dataTable, element);\n",
              "        const docLink = document.createElement('div');\n",
              "        docLink.innerHTML = docLinkHtml;\n",
              "        element.appendChild(docLink);\n",
              "      }\n",
              "    </script>\n",
              "  </div>\n",
              "\n",
              "\n",
              "  <div id=\"id_a9980fbf-a9d8-48d2-8e1e-3d4a1e99a864\">\n",
              "    <style>\n",
              "      .colab-df-generate {\n",
              "        background-color: #E8F0FE;\n",
              "        border: none;\n",
              "        border-radius: 50%;\n",
              "        cursor: pointer;\n",
              "        display: none;\n",
              "        fill: #1967D2;\n",
              "        height: 32px;\n",
              "        padding: 0 0 0 0;\n",
              "        width: 32px;\n",
              "      }\n",
              "\n",
              "      .colab-df-generate:hover {\n",
              "        background-color: #E2EBFA;\n",
              "        box-shadow: 0px 1px 2px rgba(60, 64, 67, 0.3), 0px 1px 3px 1px rgba(60, 64, 67, 0.15);\n",
              "        fill: #174EA6;\n",
              "      }\n",
              "\n",
              "      [theme=dark] .colab-df-generate {\n",
              "        background-color: #3B4455;\n",
              "        fill: #D2E3FC;\n",
              "      }\n",
              "\n",
              "      [theme=dark] .colab-df-generate:hover {\n",
              "        background-color: #434B5C;\n",
              "        box-shadow: 0px 1px 3px 1px rgba(0, 0, 0, 0.15);\n",
              "        filter: drop-shadow(0px 1px 2px rgba(0, 0, 0, 0.3));\n",
              "        fill: #FFFFFF;\n",
              "      }\n",
              "    </style>\n",
              "    <button class=\"colab-df-generate\" onclick=\"generateWithVariable('df_scores')\"\n",
              "            title=\"Generate code using this dataframe.\"\n",
              "            style=\"display:none;\">\n",
              "\n",
              "  <svg xmlns=\"http://www.w3.org/2000/svg\" height=\"24px\"viewBox=\"0 0 24 24\"\n",
              "       width=\"24px\">\n",
              "    <path d=\"M7,19H8.4L18.45,9,17,7.55,7,17.6ZM5,21V16.75L18.45,3.32a2,2,0,0,1,2.83,0l1.4,1.43a1.91,1.91,0,0,1,.58,1.4,1.91,1.91,0,0,1-.58,1.4L9.25,21ZM18.45,9,17,7.55Zm-12,3A5.31,5.31,0,0,0,4.9,8.1,5.31,5.31,0,0,0,1,6.5,5.31,5.31,0,0,0,4.9,4.9,5.31,5.31,0,0,0,6.5,1,5.31,5.31,0,0,0,8.1,4.9,5.31,5.31,0,0,0,12,6.5,5.46,5.46,0,0,0,6.5,12Z\"/>\n",
              "  </svg>\n",
              "    </button>\n",
              "    <script>\n",
              "      (() => {\n",
              "      const buttonEl =\n",
              "        document.querySelector('#id_a9980fbf-a9d8-48d2-8e1e-3d4a1e99a864 button.colab-df-generate');\n",
              "      buttonEl.style.display =\n",
              "        google.colab.kernel.accessAllowed ? 'block' : 'none';\n",
              "\n",
              "      buttonEl.onclick = () => {\n",
              "        google.colab.notebook.generateWithVariable('df_scores');\n",
              "      }\n",
              "      })();\n",
              "    </script>\n",
              "  </div>\n",
              "\n",
              "    </div>\n",
              "  </div>\n"
            ],
            "application/vnd.google.colaboratory.intrinsic+json": {
              "type": "dataframe",
              "variable_name": "df_scores",
              "summary": "{\n  \"name\": \"df_scores\",\n  \"rows\": 1,\n  \"fields\": [\n    {\n      \"column\": \"training_accuracy\",\n      \"properties\": {\n        \"dtype\": \"number\",\n        \"std\": null,\n        \"min\": 0.9618911743164062,\n        \"max\": 0.9618911743164062,\n        \"num_unique_values\": 1,\n        \"samples\": [\n          0.9618911743164062\n        ],\n        \"semantic_type\": \"\",\n        \"description\": \"\"\n      }\n    },\n    {\n      \"column\": \"validation_accuracy\",\n      \"properties\": {\n        \"dtype\": \"number\",\n        \"std\": null,\n        \"min\": 0.9221562147140503,\n        \"max\": 0.9221562147140503,\n        \"num_unique_values\": 1,\n        \"samples\": [\n          0.9221562147140503\n        ],\n        \"semantic_type\": \"\",\n        \"description\": \"\"\n      }\n    },\n    {\n      \"column\": \"train_val_acc_diff\",\n      \"properties\": {\n        \"dtype\": \"number\",\n        \"std\": null,\n        \"min\": 0.03973495960235596,\n        \"max\": 0.03973495960235596,\n        \"num_unique_values\": 1,\n        \"samples\": [\n          0.03973495960235596\n        ],\n        \"semantic_type\": \"\",\n        \"description\": \"\"\n      }\n    },\n    {\n      \"column\": \"precision\",\n      \"properties\": {\n        \"dtype\": \"number\",\n        \"std\": null,\n        \"min\": 0.9308340929808568,\n        \"max\": 0.9308340929808568,\n        \"num_unique_values\": 1,\n        \"samples\": [\n          0.9308340929808568\n        ],\n        \"semantic_type\": \"\",\n        \"description\": \"\"\n      }\n    },\n    {\n      \"column\": \"recall\",\n      \"properties\": {\n        \"dtype\": \"number\",\n        \"std\": null,\n        \"min\": 0.934721665999199,\n        \"max\": 0.934721665999199,\n        \"num_unique_values\": 1,\n        \"samples\": [\n          0.934721665999199\n        ],\n        \"semantic_type\": \"\",\n        \"description\": \"\"\n      }\n    },\n    {\n      \"column\": \"f1_score\",\n      \"properties\": {\n        \"dtype\": \"number\",\n        \"std\": null,\n        \"min\": 0.9327738288944079,\n        \"max\": 0.9327738288944079,\n        \"num_unique_values\": 1,\n        \"samples\": [\n          0.9327738288944079\n        ],\n        \"semantic_type\": \"\",\n        \"description\": \"\"\n      }\n    },\n    {\n      \"column\": \"confusion_matrix\",\n      \"properties\": {\n        \"dtype\": \"object\",\n        \"semantic_type\": \"\",\n        \"description\": \"\"\n      }\n    }\n  ]\n}"
            }
          },
          "metadata": {},
          "execution_count": 38
        }
      ]
    },
    {
      "cell_type": "markdown",
      "source": [
        "## Save model scores and model  \n",
        "The model's performance scores, stored in the df_scores DataFrame, are saved as a CSV file in the specified directory on Google Drive. If the directory doesn't exist, it is created. The file is saved with the name 'model_scores.csv'.\n",
        "\n",
        "Additionally, the trained model (best_model in this case) is saved in .h5 format, which is the standard format for Keras/TensorFlow models. The model is saved in the same directory, and the path is printed after the save operation.\n"
      ],
      "metadata": {
        "id": "F060ghWcfyuI"
      }
    },
    {
      "cell_type": "code",
      "source": [
        "import os\n",
        "import pandas as pd\n",
        "import joblib\n",
        "\n",
        "# 2) Save the DataFrame as a CSV\n",
        "save_dir = '/content/drive/MyDrive/BCU - MSc in AI/DL ASMT3/models'\n",
        "os.makedirs(save_dir, exist_ok=True)  # create directory if not exists\n",
        "\n",
        "csv_path = os.path.join(save_dir, 'model_scores.csv')\n",
        "df_scores.to_csv(csv_path, index=True)\n",
        "print(f\"Saved model scores to: {csv_path}\")\n",
        "\n",
        "\n",
        "# best_model is your VGG19 (keras/tf model)\n",
        "h5_path = os.path.join(save_dir, 'NLP_model.h5')\n",
        "model.save(h5_path)\n",
        "print(f\"Saved NLP model to: {h5_path}\")"
      ],
      "metadata": {
        "id": "DIGp3C5Zkk2d",
        "colab": {
          "base_uri": "https://localhost:8080/"
        },
        "outputId": "b0c33ce3-0fc8-41ec-e89c-e765a31b8741"
      },
      "execution_count": null,
      "outputs": [
        {
          "output_type": "stream",
          "name": "stderr",
          "text": [
            "WARNING:absl:You are saving your model as an HDF5 file via `model.save()` or `keras.saving.save_model(model)`. This file format is considered legacy. We recommend using instead the native Keras format, e.g. `model.save('my_model.keras')` or `keras.saving.save_model(model, 'my_model.keras')`. \n"
          ]
        },
        {
          "output_type": "stream",
          "name": "stdout",
          "text": [
            "Saved model scores to: /content/drive/MyDrive/BCU - MSc in AI/DL ASMT3/models/model_scores.csv\n",
            "Saved NLP model to: /content/drive/MyDrive/BCU - MSc in AI/DL ASMT3/models/NLP_model.h5\n"
          ]
        }
      ]
    }
  ]
}